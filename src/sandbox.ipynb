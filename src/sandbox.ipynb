{
 "metadata": {
  "language_info": {
   "codemirror_mode": {
    "name": "ipython",
    "version": 3
   },
   "file_extension": ".py",
   "mimetype": "text/x-python",
   "name": "python",
   "nbconvert_exporter": "python",
   "pygments_lexer": "ipython3",
   "version": "3.7.9-final"
  },
  "orig_nbformat": 2,
  "kernelspec": {
   "name": "sfcrime",
   "display_name": "sfcrime"
  }
 },
 "nbformat": 4,
 "nbformat_minor": 2,
 "cells": [
  {
   "cell_type": "code",
   "execution_count": 1,
   "metadata": {},
   "outputs": [],
   "source": [
    "import os\n",
    "import time\n",
    "from tqdm import tqdm\n",
    "\n",
    "import shapely\n",
    "import numpy as np\n",
    "import pandas as pd\n",
    "import geopandas as gpd\n",
    "\n",
    "import seaborn as sns\n",
    "import matplotlib.pyplot as plt"
   ]
  },
  {
   "source": [
    "### Dataset 1"
   ],
   "cell_type": "markdown",
   "metadata": {}
  },
  {
   "cell_type": "code",
   "execution_count": 2,
   "metadata": {},
   "outputs": [
    {
     "output_type": "execute_result",
     "data": {
      "text/plain": [
       "Index(['PdId', 'IncidntNum', 'Incident Code', 'Category', 'Descript',\n",
       "       'DayOfWeek', 'Date', 'Time', 'PdDistrict', 'Resolution', 'Address', 'X',\n",
       "       'Y', 'location', 'SF Find Neighborhoods 2 2',\n",
       "       'Current Police Districts 2 2', 'Current Supervisor Districts 2 2',\n",
       "       'Analysis Neighborhoods 2 2', 'DELETE - Fire Prevention Districts 2 2',\n",
       "       'DELETE - Police Districts 2 2', 'DELETE - Supervisor Districts 2 2',\n",
       "       'DELETE - Zip Codes 2 2', 'DELETE - Neighborhoods 2 2',\n",
       "       'DELETE - 2017 Fix It Zones 2 2',\n",
       "       'Civic Center Harm Reduction Project Boundary 2 2',\n",
       "       'Fix It Zones as of 2017-11-06  2 2', 'DELETE - HSOC Zones 2 2',\n",
       "       'Fix It Zones as of 2018-02-07 2 2',\n",
       "       'CBD, BID and GBD Boundaries as of 2017 2 2',\n",
       "       'Areas of Vulnerability, 2016 2 2',\n",
       "       'Central Market/Tenderloin Boundary 2 2',\n",
       "       'Central Market/Tenderloin Boundary Polygon - Updated 2 2',\n",
       "       'HSOC Zones as of 2018-06-05 2 2', 'OWED Public Spaces 2 2',\n",
       "       'Neighborhoods 2'],\n",
       "      dtype='object')"
      ]
     },
     "metadata": {},
     "execution_count": 2
    }
   ],
   "source": [
    "path = \"/Users/administrator/Documents/Projects/sf-crime-exploration/data/SFPD_Crime_Data_2003_2018.csv\"\n",
    "dataframe = pd.read_csv(path)\n",
    "\n",
    "dataframe.columns"
   ]
  },
  {
   "source": [
    "Check for NaN values for each of the columns that we are interested in."
   ],
   "cell_type": "markdown",
   "metadata": {}
  },
  {
   "cell_type": "code",
   "execution_count": 3,
   "metadata": {},
   "outputs": [
    {
     "output_type": "execute_result",
     "data": {
      "text/plain": [
       "0"
      ]
     },
     "metadata": {},
     "execution_count": 3
    }
   ],
   "source": [
    "len(dataframe[dataframe[\"Category\"].isna()])"
   ]
  },
  {
   "cell_type": "code",
   "execution_count": 4,
   "metadata": {},
   "outputs": [
    {
     "output_type": "execute_result",
     "data": {
      "text/plain": [
       "0"
      ]
     },
     "metadata": {},
     "execution_count": 4
    }
   ],
   "source": [
    "len(dataframe[dataframe[\"DayOfWeek\"].isna()])"
   ]
  },
  {
   "cell_type": "code",
   "execution_count": 5,
   "metadata": {},
   "outputs": [
    {
     "output_type": "execute_result",
     "data": {
      "text/plain": [
       "0"
      ]
     },
     "metadata": {},
     "execution_count": 5
    }
   ],
   "source": [
    "len(dataframe[dataframe[\"Date\"].isna()])"
   ]
  },
  {
   "cell_type": "code",
   "execution_count": 6,
   "metadata": {},
   "outputs": [
    {
     "output_type": "execute_result",
     "data": {
      "text/plain": [
       "0"
      ]
     },
     "metadata": {},
     "execution_count": 6
    }
   ],
   "source": [
    "len(dataframe[dataframe[\"Time\"].isna()])"
   ]
  },
  {
   "cell_type": "code",
   "execution_count": 7,
   "metadata": {},
   "outputs": [
    {
     "output_type": "execute_result",
     "data": {
      "text/plain": [
       "1"
      ]
     },
     "metadata": {},
     "execution_count": 7
    }
   ],
   "source": [
    "len(dataframe[dataframe[\"PdDistrict\"].isna()])"
   ]
  },
  {
   "source": [
    "There is one missing entry in the PdDistrict. Let's see what it is."
   ],
   "cell_type": "markdown",
   "metadata": {}
  },
  {
   "cell_type": "code",
   "execution_count": 8,
   "metadata": {},
   "outputs": [
    {
     "output_type": "execute_result",
     "data": {
      "text/plain": [
       "                   PdId  IncidntNum  Incident Code       Category  \\\n",
       "1775753  16601857306244   166018573           6244  LARCENY/THEFT   \n",
       "\n",
       "                             Descript DayOfWeek        Date   Time PdDistrict  \\\n",
       "1775753  GRAND THEFT FROM LOCKED AUTO    Sunday  01/17/2016  23:54        NaN   \n",
       "\n",
       "        Resolution  ... Fix It Zones as of 2017-11-06  2 2  \\\n",
       "1775753       NONE  ...                                NaN   \n",
       "\n",
       "         DELETE - HSOC Zones 2 2  Fix It Zones as of 2018-02-07 2 2  \\\n",
       "1775753                      NaN                                NaN   \n",
       "\n",
       "        CBD, BID and GBD Boundaries as of 2017 2 2  \\\n",
       "1775753                                        NaN   \n",
       "\n",
       "         Areas of Vulnerability, 2016 2 2  \\\n",
       "1775753                               NaN   \n",
       "\n",
       "         Central Market/Tenderloin Boundary 2 2  \\\n",
       "1775753                                     NaN   \n",
       "\n",
       "         Central Market/Tenderloin Boundary Polygon - Updated 2 2  \\\n",
       "1775753                                                NaN          \n",
       "\n",
       "         HSOC Zones as of 2018-06-05 2 2  OWED Public Spaces 2 2  \\\n",
       "1775753                              NaN                     NaN   \n",
       "\n",
       "         Neighborhoods 2  \n",
       "1775753              NaN  \n",
       "\n",
       "[1 rows x 35 columns]"
      ],
      "text/html": "<div>\n<style scoped>\n    .dataframe tbody tr th:only-of-type {\n        vertical-align: middle;\n    }\n\n    .dataframe tbody tr th {\n        vertical-align: top;\n    }\n\n    .dataframe thead th {\n        text-align: right;\n    }\n</style>\n<table border=\"1\" class=\"dataframe\">\n  <thead>\n    <tr style=\"text-align: right;\">\n      <th></th>\n      <th>PdId</th>\n      <th>IncidntNum</th>\n      <th>Incident Code</th>\n      <th>Category</th>\n      <th>Descript</th>\n      <th>DayOfWeek</th>\n      <th>Date</th>\n      <th>Time</th>\n      <th>PdDistrict</th>\n      <th>Resolution</th>\n      <th>...</th>\n      <th>Fix It Zones as of 2017-11-06  2 2</th>\n      <th>DELETE - HSOC Zones 2 2</th>\n      <th>Fix It Zones as of 2018-02-07 2 2</th>\n      <th>CBD, BID and GBD Boundaries as of 2017 2 2</th>\n      <th>Areas of Vulnerability, 2016 2 2</th>\n      <th>Central Market/Tenderloin Boundary 2 2</th>\n      <th>Central Market/Tenderloin Boundary Polygon - Updated 2 2</th>\n      <th>HSOC Zones as of 2018-06-05 2 2</th>\n      <th>OWED Public Spaces 2 2</th>\n      <th>Neighborhoods 2</th>\n    </tr>\n  </thead>\n  <tbody>\n    <tr>\n      <th>1775753</th>\n      <td>16601857306244</td>\n      <td>166018573</td>\n      <td>6244</td>\n      <td>LARCENY/THEFT</td>\n      <td>GRAND THEFT FROM LOCKED AUTO</td>\n      <td>Sunday</td>\n      <td>01/17/2016</td>\n      <td>23:54</td>\n      <td>NaN</td>\n      <td>NONE</td>\n      <td>...</td>\n      <td>NaN</td>\n      <td>NaN</td>\n      <td>NaN</td>\n      <td>NaN</td>\n      <td>NaN</td>\n      <td>NaN</td>\n      <td>NaN</td>\n      <td>NaN</td>\n      <td>NaN</td>\n      <td>NaN</td>\n    </tr>\n  </tbody>\n</table>\n<p>1 rows × 35 columns</p>\n</div>"
     },
     "metadata": {},
     "execution_count": 8
    }
   ],
   "source": [
    "dataframe[dataframe[\"PdDistrict\"].isna()]"
   ]
  },
  {
   "source": [
    "Though the district information is missing, the latitude and longitude information is not missing which means we can recover it if we have the Polygon representing the neighborhoods."
   ],
   "cell_type": "markdown",
   "metadata": {}
  },
  {
   "cell_type": "code",
   "execution_count": 9,
   "metadata": {},
   "outputs": [
    {
     "output_type": "execute_result",
     "data": {
      "text/plain": [
       "                  X          Y\n",
       "1775753 -122.413352  37.708202"
      ],
      "text/html": "<div>\n<style scoped>\n    .dataframe tbody tr th:only-of-type {\n        vertical-align: middle;\n    }\n\n    .dataframe tbody tr th {\n        vertical-align: top;\n    }\n\n    .dataframe thead th {\n        text-align: right;\n    }\n</style>\n<table border=\"1\" class=\"dataframe\">\n  <thead>\n    <tr style=\"text-align: right;\">\n      <th></th>\n      <th>X</th>\n      <th>Y</th>\n    </tr>\n  </thead>\n  <tbody>\n    <tr>\n      <th>1775753</th>\n      <td>-122.413352</td>\n      <td>37.708202</td>\n    </tr>\n  </tbody>\n</table>\n</div>"
     },
     "metadata": {},
     "execution_count": 9
    }
   ],
   "source": [
    "dataframe[dataframe[\"PdDistrict\"].isna()][[\"X\", \"Y\"]]"
   ]
  },
  {
   "cell_type": "code",
   "execution_count": 10,
   "metadata": {},
   "outputs": [
    {
     "output_type": "execute_result",
     "data": {
      "text/plain": [
       "0"
      ]
     },
     "metadata": {},
     "execution_count": 10
    }
   ],
   "source": [
    "len(dataframe[dataframe[\"X\"].isna()])"
   ]
  },
  {
   "cell_type": "code",
   "execution_count": 11,
   "metadata": {},
   "outputs": [
    {
     "output_type": "execute_result",
     "data": {
      "text/plain": [
       "0"
      ]
     },
     "metadata": {},
     "execution_count": 11
    }
   ],
   "source": [
    "len(dataframe[dataframe[\"Y\"].isna()])"
   ]
  },
  {
   "source": [
    "Let's check to see how many duplicate entries there are."
   ],
   "cell_type": "markdown",
   "metadata": {}
  },
  {
   "cell_type": "code",
   "execution_count": 12,
   "metadata": {},
   "outputs": [
    {
     "output_type": "execute_result",
     "data": {
      "text/plain": [
       "0"
      ]
     },
     "metadata": {},
     "execution_count": 12
    }
   ],
   "source": [
    "dataframe.duplicated().sum()"
   ]
  },
  {
   "source": [
    "There are no duplicate entries.\n",
    "\n",
    "Let's examine the coordinates to ensure that we do not have any outliers. The outliers will be the coordinates outside of the following bounding box:\n",
    "* BBox East Longitude: -122.28178\n",
    "* BBox West Longitude: -123.173825\n",
    "* BBox North Latitude: 37.929824\n",
    "* BBox South Latitude: 37.63983"
   ],
   "cell_type": "markdown",
   "metadata": {}
  },
  {
   "cell_type": "code",
   "execution_count": 13,
   "metadata": {},
   "outputs": [],
   "source": [
    "def validate_coordinates(coords):\n",
    "    \"\"\"Determines if the location represented by the coordinates is contained within the San Francisco county bounding box.\n",
    "\n",
    "    Parameters\n",
    "    ----------\n",
    "    coords : tuple (int, int)\n",
    "        The coordinates in (longitude, latitude) representing the location to verify.\n",
    "\n",
    "    Returns\n",
    "    -------\n",
    "    valid : bool\n",
    "        Returns ``True`` if the location is contained within the San Francisco county bounding box. Returns ``False`` otherwise.\n",
    "\n",
    "    \"\"\"\n",
    "    x = coords[0]\n",
    "    y = coords[1]\n",
    "    if (x >= -123.173825 and x <= -122.28178) and (y >= 37.623983 and y <= 37.929824):\n",
    "        return True\n",
    "    else:\n",
    "        return False"
   ]
  },
  {
   "cell_type": "code",
   "execution_count": 14,
   "metadata": {},
   "outputs": [
    {
     "output_type": "stream",
     "name": "stderr",
     "text": [
      "100%|██████████| 2160953/2160953 [00:05<00:00, 401125.68it/s]\n",
      "There are 142 invalid entries\n",
      "\n"
     ]
    }
   ],
   "source": [
    "invalid_coord_indices = list()\n",
    "coordinates = dataframe[[\"X\", \"Y\"]]\n",
    "\n",
    "for idx, row in tqdm(enumerate(coordinates.itertuples()), total=len(coordinates)):\n",
    "    row = row[1:3]\n",
    "    valid = validate_coordinates(row)\n",
    "    if valid == False:\n",
    "        invalid_coord_indices.append(idx)\n",
    "\n",
    "print(\"\\nThere are {} invalid entries\".format(len(invalid_coord_indices)))"
   ]
  },
  {
   "source": [
    "Let's check out some of the XY coordinates of the invalid entries."
   ],
   "cell_type": "markdown",
   "metadata": {}
  },
  {
   "cell_type": "code",
   "execution_count": 15,
   "metadata": {},
   "outputs": [
    {
     "output_type": "execute_result",
     "data": {
      "text/plain": [
       "             X     Y\n",
       "2137    -120.5  90.0\n",
       "8478    -120.5  90.0\n",
       "12880   -120.5  90.0\n",
       "20953   -120.5  90.0\n",
       "28594   -120.5  90.0\n",
       "...        ...   ...\n",
       "2025504 -120.5  90.0\n",
       "2034165 -120.5  90.0\n",
       "2064120 -120.5  90.0\n",
       "2079991 -120.5  90.0\n",
       "2086099 -120.5  90.0\n",
       "\n",
       "[142 rows x 2 columns]"
      ],
      "text/html": "<div>\n<style scoped>\n    .dataframe tbody tr th:only-of-type {\n        vertical-align: middle;\n    }\n\n    .dataframe tbody tr th {\n        vertical-align: top;\n    }\n\n    .dataframe thead th {\n        text-align: right;\n    }\n</style>\n<table border=\"1\" class=\"dataframe\">\n  <thead>\n    <tr style=\"text-align: right;\">\n      <th></th>\n      <th>X</th>\n      <th>Y</th>\n    </tr>\n  </thead>\n  <tbody>\n    <tr>\n      <th>2137</th>\n      <td>-120.5</td>\n      <td>90.0</td>\n    </tr>\n    <tr>\n      <th>8478</th>\n      <td>-120.5</td>\n      <td>90.0</td>\n    </tr>\n    <tr>\n      <th>12880</th>\n      <td>-120.5</td>\n      <td>90.0</td>\n    </tr>\n    <tr>\n      <th>20953</th>\n      <td>-120.5</td>\n      <td>90.0</td>\n    </tr>\n    <tr>\n      <th>28594</th>\n      <td>-120.5</td>\n      <td>90.0</td>\n    </tr>\n    <tr>\n      <th>...</th>\n      <td>...</td>\n      <td>...</td>\n    </tr>\n    <tr>\n      <th>2025504</th>\n      <td>-120.5</td>\n      <td>90.0</td>\n    </tr>\n    <tr>\n      <th>2034165</th>\n      <td>-120.5</td>\n      <td>90.0</td>\n    </tr>\n    <tr>\n      <th>2064120</th>\n      <td>-120.5</td>\n      <td>90.0</td>\n    </tr>\n    <tr>\n      <th>2079991</th>\n      <td>-120.5</td>\n      <td>90.0</td>\n    </tr>\n    <tr>\n      <th>2086099</th>\n      <td>-120.5</td>\n      <td>90.0</td>\n    </tr>\n  </tbody>\n</table>\n<p>142 rows × 2 columns</p>\n</div>"
     },
     "metadata": {},
     "execution_count": 15
    }
   ],
   "source": [
    "dataframe[[\"X\", \"Y\"]].iloc[invalid_coord_indices]"
   ]
  },
  {
   "source": [
    "The invalid entries all have the coordinates (-120.5, 90.0)"
   ],
   "cell_type": "markdown",
   "metadata": {}
  },
  {
   "cell_type": "code",
   "execution_count": null,
   "metadata": {},
   "outputs": [],
   "source": []
  },
  {
   "source": [
    "### Dataset 2"
   ],
   "cell_type": "markdown",
   "metadata": {}
  },
  {
   "cell_type": "code",
   "execution_count": 16,
   "metadata": {},
   "outputs": [
    {
     "output_type": "execute_result",
     "data": {
      "text/plain": [
       "Index(['Incident Datetime', 'Incident Date', 'Incident Time', 'Incident Year',\n",
       "       'Incident Day of Week', 'Report Datetime', 'Row ID', 'Incident ID',\n",
       "       'Incident Number', 'CAD Number', 'Report Type Code',\n",
       "       'Report Type Description', 'Filed Online', 'Incident Code',\n",
       "       'Incident Category', 'Incident Subcategory', 'Incident Description',\n",
       "       'Resolution', 'Intersection', 'CNN', 'Police District',\n",
       "       'Analysis Neighborhood', 'Supervisor District', 'Latitude', 'Longitude',\n",
       "       'point', 'SF Find Neighborhoods', 'Current Police Districts',\n",
       "       'Current Supervisor Districts', 'Analysis Neighborhoods',\n",
       "       'HSOC Zones as of 2018-06-05', 'OWED Public Spaces',\n",
       "       'Central Market/Tenderloin Boundary Polygon - Updated',\n",
       "       'Parks Alliance CPSI (27+TL sites)', 'ESNCAG - Boundary File',\n",
       "       'Areas of Vulnerability, 2016'],\n",
       "      dtype='object')"
      ]
     },
     "metadata": {},
     "execution_count": 16
    }
   ],
   "source": [
    "path = \"/Users/administrator/Documents/Projects/sf-crime-exploration/data/SFPD_Crime_Data_2018_Present.csv\"\n",
    "dataframe = pd.read_csv(path)\n",
    "\n",
    "dataframe.columns"
   ]
  },
  {
   "source": [
    "Check for some NaN values in the categories that we are interested in. Also check for duplicates."
   ],
   "cell_type": "markdown",
   "metadata": {}
  },
  {
   "cell_type": "code",
   "execution_count": 17,
   "metadata": {},
   "outputs": [
    {
     "output_type": "execute_result",
     "data": {
      "text/plain": [
       "0"
      ]
     },
     "metadata": {},
     "execution_count": 17
    }
   ],
   "source": [
    "dataframe.duplicated().sum()"
   ]
  },
  {
   "cell_type": "code",
   "execution_count": 18,
   "metadata": {},
   "outputs": [
    {
     "output_type": "execute_result",
     "data": {
      "text/plain": [
       "0"
      ]
     },
     "metadata": {},
     "execution_count": 18
    }
   ],
   "source": [
    "len(dataframe[dataframe[\"Incident Date\"].isna()])"
   ]
  },
  {
   "cell_type": "code",
   "execution_count": 19,
   "metadata": {},
   "outputs": [
    {
     "output_type": "execute_result",
     "data": {
      "text/plain": [
       "267"
      ]
     },
     "metadata": {},
     "execution_count": 19
    }
   ],
   "source": [
    "len(dataframe[dataframe[\"Incident Category\"].isna()])"
   ]
  },
  {
   "cell_type": "code",
   "execution_count": 20,
   "metadata": {},
   "outputs": [
    {
     "output_type": "execute_result",
     "data": {
      "text/plain": [
       "       Incident Category Incident Subcategory  \\\n",
       "1235                 NaN                  NaN   \n",
       "2091                 NaN                  NaN   \n",
       "2157                 NaN                  NaN   \n",
       "2364                 NaN                  NaN   \n",
       "2451                 NaN                  NaN   \n",
       "...                  ...                  ...   \n",
       "392967               NaN                  NaN   \n",
       "392983               NaN                  NaN   \n",
       "393428               NaN                  NaN   \n",
       "393553               NaN                  NaN   \n",
       "393899               NaN                  NaN   \n",
       "\n",
       "                               Incident Description  \n",
       "1235    Public Health Order Violation, Notification  \n",
       "2091    Public Health Order Violation, Notification  \n",
       "2157    Public Health Order Violation, Notification  \n",
       "2364                Driving, Sideshow/Street Racing  \n",
       "2451                Driving, Sideshow/Street Racing  \n",
       "...                                             ...  \n",
       "392967  Public Health Order Violation, Notification  \n",
       "392983  Public Health Order Violation, Notification  \n",
       "393428                           Military Ordinance  \n",
       "393553  Public Health Order Violation, Notification  \n",
       "393899  Public Health Order Violation, Notification  \n",
       "\n",
       "[267 rows x 3 columns]"
      ],
      "text/html": "<div>\n<style scoped>\n    .dataframe tbody tr th:only-of-type {\n        vertical-align: middle;\n    }\n\n    .dataframe tbody tr th {\n        vertical-align: top;\n    }\n\n    .dataframe thead th {\n        text-align: right;\n    }\n</style>\n<table border=\"1\" class=\"dataframe\">\n  <thead>\n    <tr style=\"text-align: right;\">\n      <th></th>\n      <th>Incident Category</th>\n      <th>Incident Subcategory</th>\n      <th>Incident Description</th>\n    </tr>\n  </thead>\n  <tbody>\n    <tr>\n      <th>1235</th>\n      <td>NaN</td>\n      <td>NaN</td>\n      <td>Public Health Order Violation, Notification</td>\n    </tr>\n    <tr>\n      <th>2091</th>\n      <td>NaN</td>\n      <td>NaN</td>\n      <td>Public Health Order Violation, Notification</td>\n    </tr>\n    <tr>\n      <th>2157</th>\n      <td>NaN</td>\n      <td>NaN</td>\n      <td>Public Health Order Violation, Notification</td>\n    </tr>\n    <tr>\n      <th>2364</th>\n      <td>NaN</td>\n      <td>NaN</td>\n      <td>Driving, Sideshow/Street Racing</td>\n    </tr>\n    <tr>\n      <th>2451</th>\n      <td>NaN</td>\n      <td>NaN</td>\n      <td>Driving, Sideshow/Street Racing</td>\n    </tr>\n    <tr>\n      <th>...</th>\n      <td>...</td>\n      <td>...</td>\n      <td>...</td>\n    </tr>\n    <tr>\n      <th>392967</th>\n      <td>NaN</td>\n      <td>NaN</td>\n      <td>Public Health Order Violation, Notification</td>\n    </tr>\n    <tr>\n      <th>392983</th>\n      <td>NaN</td>\n      <td>NaN</td>\n      <td>Public Health Order Violation, Notification</td>\n    </tr>\n    <tr>\n      <th>393428</th>\n      <td>NaN</td>\n      <td>NaN</td>\n      <td>Military Ordinance</td>\n    </tr>\n    <tr>\n      <th>393553</th>\n      <td>NaN</td>\n      <td>NaN</td>\n      <td>Public Health Order Violation, Notification</td>\n    </tr>\n    <tr>\n      <th>393899</th>\n      <td>NaN</td>\n      <td>NaN</td>\n      <td>Public Health Order Violation, Notification</td>\n    </tr>\n  </tbody>\n</table>\n<p>267 rows × 3 columns</p>\n</div>"
     },
     "metadata": {},
     "execution_count": 20
    }
   ],
   "source": [
    "dataframe[dataframe[\"Incident Category\"].isna()][[\"Incident Category\", \"Incident Subcategory\", \"Incident Description\"]]"
   ]
  },
  {
   "source": [
    "Looks like most of the entries that are missing the Category are mostly public health order violations or smaller ordinances. These are not exactly \"crimes\" so it is OK to drop them. Let's see how many instances of this there are."
   ],
   "cell_type": "markdown",
   "metadata": {}
  },
  {
   "cell_type": "code",
   "execution_count": 21,
   "metadata": {},
   "outputs": [
    {
     "output_type": "execute_result",
     "data": {
      "text/plain": [
       "array(['Public Health Order Violation, Notification',\n",
       "       'Driving, Sideshow/Street Racing', 'Auto Impounded',\n",
       "       'Public Health Order Violation, After Notification',\n",
       "       'Sexual Assault, Aggravated, of Child',\n",
       "       'Service of Documents Related to a Civil Drug Abatement and/or Public Nuisance Action',\n",
       "       'Theft, Boat', 'Military Ordinance',\n",
       "       'Crimes Involving Receipts or Titles',\n",
       "       'Procurement, Pimping, & Pandering',\n",
       "       'Gun Violence Restraining Order',\n",
       "       'Assault, Commission of While Armed', 'Theft, Animal, Att.',\n",
       "       'Gun Violence Restraining Order Violation'], dtype=object)"
      ]
     },
     "metadata": {},
     "execution_count": 21
    }
   ],
   "source": [
    "dataframe[dataframe[\"Incident Category\"].isna()][\"Incident Description\"].unique()"
   ]
  },
  {
   "cell_type": "code",
   "execution_count": 22,
   "metadata": {},
   "outputs": [
    {
     "output_type": "execute_result",
     "data": {
      "text/plain": [
       "Public Health Order Violation, Notification                                             146\n",
       "Public Health Order Violation, After Notification                                        41\n",
       "Driving, Sideshow/Street Racing                                                          33\n",
       "Sexual Assault, Aggravated, of Child                                                     10\n",
       "Military Ordinance                                                                        9\n",
       "Service of Documents Related to a Civil Drug Abatement and/or Public Nuisance Action      8\n",
       "Theft, Boat                                                                               6\n",
       "Gun Violence Restraining Order                                                            4\n",
       "Auto Impounded                                                                            4\n",
       "Procurement, Pimping, & Pandering                                                         2\n",
       "Theft, Animal, Att.                                                                       1\n",
       "Assault, Commission of While Armed                                                        1\n",
       "Crimes Involving Receipts or Titles                                                       1\n",
       "Gun Violence Restraining Order Violation                                                  1\n",
       "Name: Incident Description, dtype: int64"
      ]
     },
     "metadata": {},
     "execution_count": 22
    }
   ],
   "source": [
    "dataframe[dataframe[\"Incident Category\"].isna()][\"Incident Description\"].value_counts()"
   ]
  },
  {
   "source": [
    "For these entries, we can just list them as \"Other\" for the \"Incident Category\" column."
   ],
   "cell_type": "markdown",
   "metadata": {}
  },
  {
   "cell_type": "code",
   "execution_count": 23,
   "metadata": {},
   "outputs": [],
   "source": [
    "missing_indices = dataframe[dataframe[\"Incident Category\"].isna()].index"
   ]
  },
  {
   "cell_type": "code",
   "execution_count": 24,
   "metadata": {},
   "outputs": [],
   "source": [
    "for index in missing_indices:\n",
    "    dataframe.loc[index, \"Incident Category\"] = \"Other\""
   ]
  },
  {
   "cell_type": "code",
   "execution_count": 25,
   "metadata": {},
   "outputs": [
    {
     "output_type": "execute_result",
     "data": {
      "text/plain": [
       "Int64Index([  1235,   2091,   2157,   2364,   2451,   2497,   3327,   4584,\n",
       "              5936,   6068,\n",
       "            ...\n",
       "            382427, 384682, 386140, 390094, 390695, 392967, 392983, 393428,\n",
       "            393553, 393899],\n",
       "           dtype='int64', length=267)"
      ]
     },
     "metadata": {},
     "execution_count": 25
    }
   ],
   "source": [
    "missing_indices"
   ]
  },
  {
   "cell_type": "code",
   "execution_count": 26,
   "metadata": {},
   "outputs": [
    {
     "output_type": "execute_result",
     "data": {
      "text/plain": [
       "1235      Other\n",
       "2091      Other\n",
       "2157      Other\n",
       "2364      Other\n",
       "2451      Other\n",
       "          ...  \n",
       "392967    Other\n",
       "392983    Other\n",
       "393428    Other\n",
       "393553    Other\n",
       "393899    Other\n",
       "Name: Incident Category, Length: 267, dtype: object"
      ]
     },
     "metadata": {},
     "execution_count": 26
    }
   ],
   "source": [
    "dataframe.iloc[missing_indices][\"Incident Category\"]"
   ]
  },
  {
   "source": [
    "Or maybe instead of writing \"Other\" we can use the incident code."
   ],
   "cell_type": "markdown",
   "metadata": {}
  },
  {
   "cell_type": "code",
   "execution_count": 27,
   "metadata": {},
   "outputs": [
    {
     "output_type": "execute_result",
     "data": {
      "text/plain": [
       "0"
      ]
     },
     "metadata": {},
     "execution_count": 27
    }
   ],
   "source": [
    "len(dataframe[dataframe[\"Incident Code\"].isna()])"
   ]
  },
  {
   "source": [
    "Aha! So there are no missing incident codes. Therefore it should be possible for us to use this information to recover the incident category."
   ],
   "cell_type": "markdown",
   "metadata": {}
  },
  {
   "source": [
    "Let's check some of the incident codes for the missing entries and connect them using the following dataset. \n",
    "\n",
    "https://data.sfgov.org/Public-Safety/Reference-Police-Department-Incident-Code-Crosswal/ci9u-8awy"
   ],
   "cell_type": "markdown",
   "metadata": {}
  },
  {
   "cell_type": "code",
   "execution_count": 28,
   "metadata": {},
   "outputs": [
    {
     "output_type": "execute_result",
     "data": {
      "text/plain": [
       "        Incident Code                         Incident Description\n",
       "1235            27400  Public Health Order Violation, Notification\n",
       "2091            27400  Public Health Order Violation, Notification\n",
       "2157            27400  Public Health Order Violation, Notification\n",
       "2364            65021              Driving, Sideshow/Street Racing\n",
       "2451            65021              Driving, Sideshow/Street Racing\n",
       "...               ...                                          ...\n",
       "392967          27400  Public Health Order Violation, Notification\n",
       "392983          27400  Public Health Order Violation, Notification\n",
       "393428          12075                           Military Ordinance\n",
       "393553          27400  Public Health Order Violation, Notification\n",
       "393899          27400  Public Health Order Violation, Notification\n",
       "\n",
       "[267 rows x 2 columns]"
      ],
      "text/html": "<div>\n<style scoped>\n    .dataframe tbody tr th:only-of-type {\n        vertical-align: middle;\n    }\n\n    .dataframe tbody tr th {\n        vertical-align: top;\n    }\n\n    .dataframe thead th {\n        text-align: right;\n    }\n</style>\n<table border=\"1\" class=\"dataframe\">\n  <thead>\n    <tr style=\"text-align: right;\">\n      <th></th>\n      <th>Incident Code</th>\n      <th>Incident Description</th>\n    </tr>\n  </thead>\n  <tbody>\n    <tr>\n      <th>1235</th>\n      <td>27400</td>\n      <td>Public Health Order Violation, Notification</td>\n    </tr>\n    <tr>\n      <th>2091</th>\n      <td>27400</td>\n      <td>Public Health Order Violation, Notification</td>\n    </tr>\n    <tr>\n      <th>2157</th>\n      <td>27400</td>\n      <td>Public Health Order Violation, Notification</td>\n    </tr>\n    <tr>\n      <th>2364</th>\n      <td>65021</td>\n      <td>Driving, Sideshow/Street Racing</td>\n    </tr>\n    <tr>\n      <th>2451</th>\n      <td>65021</td>\n      <td>Driving, Sideshow/Street Racing</td>\n    </tr>\n    <tr>\n      <th>...</th>\n      <td>...</td>\n      <td>...</td>\n    </tr>\n    <tr>\n      <th>392967</th>\n      <td>27400</td>\n      <td>Public Health Order Violation, Notification</td>\n    </tr>\n    <tr>\n      <th>392983</th>\n      <td>27400</td>\n      <td>Public Health Order Violation, Notification</td>\n    </tr>\n    <tr>\n      <th>393428</th>\n      <td>12075</td>\n      <td>Military Ordinance</td>\n    </tr>\n    <tr>\n      <th>393553</th>\n      <td>27400</td>\n      <td>Public Health Order Violation, Notification</td>\n    </tr>\n    <tr>\n      <th>393899</th>\n      <td>27400</td>\n      <td>Public Health Order Violation, Notification</td>\n    </tr>\n  </tbody>\n</table>\n<p>267 rows × 2 columns</p>\n</div>"
     },
     "metadata": {},
     "execution_count": 28
    }
   ],
   "source": [
    "dataframe.iloc[missing_indices][[\"Incident Code\", \"Incident Description\"]]"
   ]
  },
  {
   "source": [
    "Unfortunately, there are a bunch of incident codes that are not mapped through the Police Department, so we should just stick with the \"Other\" designation for crimes that have no Incident Category.\n",
    "\n",
    "Let's continue checking for null values, with the Police District column."
   ],
   "cell_type": "markdown",
   "metadata": {}
  },
  {
   "cell_type": "code",
   "execution_count": 29,
   "metadata": {},
   "outputs": [
    {
     "output_type": "execute_result",
     "data": {
      "text/plain": [
       "0"
      ]
     },
     "metadata": {},
     "execution_count": 29
    }
   ],
   "source": [
    "len(dataframe[dataframe[\"Police District\"].isna()])"
   ]
  },
  {
   "source": [
    "Looks like there are no missing entries in the Police Districts column.\n",
    "\n",
    "Let's take a look at the Latitude/Longitude pairs to see if they are valid entries."
   ],
   "cell_type": "markdown",
   "metadata": {}
  },
  {
   "cell_type": "code",
   "execution_count": 32,
   "metadata": {},
   "outputs": [
    {
     "output_type": "stream",
     "name": "stderr",
     "text": [
      "100%|██████████| 394025/394025 [00:00<00:00, 498847.14it/s]\n",
      "There are 20332 invalid entries\n",
      "\n"
     ]
    }
   ],
   "source": [
    "invalid_coord_indices = list()\n",
    "coordinates = dataframe[[\"Longitude\", \"Latitude\"]]\n",
    "\n",
    "for idx, row in tqdm(enumerate(coordinates.itertuples()), total=len(coordinates)):\n",
    "    row = row[1:3]\n",
    "    valid = validate_coordinates(row)\n",
    "    if valid == False:\n",
    "        invalid_coord_indices.append(idx)\n",
    "\n",
    "print(\"\\nThere are {} invalid entries\".format(len(invalid_coord_indices)))"
   ]
  },
  {
   "source": [
    "There are a whopping 20332 invalid entries! Let's examine them."
   ],
   "cell_type": "markdown",
   "metadata": {}
  },
  {
   "cell_type": "code",
   "execution_count": 36,
   "metadata": {},
   "outputs": [
    {
     "output_type": "execute_result",
     "data": {
      "text/plain": [
       "        Longitude  Latitude\n",
       "0             NaN       NaN\n",
       "1             NaN       NaN\n",
       "2             NaN       NaN\n",
       "33            NaN       NaN\n",
       "66            NaN       NaN\n",
       "...           ...       ...\n",
       "393835        NaN       NaN\n",
       "393837        NaN       NaN\n",
       "393854        NaN       NaN\n",
       "393858        NaN       NaN\n",
       "393946        NaN       NaN\n",
       "\n",
       "[20332 rows x 2 columns]"
      ],
      "text/html": "<div>\n<style scoped>\n    .dataframe tbody tr th:only-of-type {\n        vertical-align: middle;\n    }\n\n    .dataframe tbody tr th {\n        vertical-align: top;\n    }\n\n    .dataframe thead th {\n        text-align: right;\n    }\n</style>\n<table border=\"1\" class=\"dataframe\">\n  <thead>\n    <tr style=\"text-align: right;\">\n      <th></th>\n      <th>Longitude</th>\n      <th>Latitude</th>\n    </tr>\n  </thead>\n  <tbody>\n    <tr>\n      <th>0</th>\n      <td>NaN</td>\n      <td>NaN</td>\n    </tr>\n    <tr>\n      <th>1</th>\n      <td>NaN</td>\n      <td>NaN</td>\n    </tr>\n    <tr>\n      <th>2</th>\n      <td>NaN</td>\n      <td>NaN</td>\n    </tr>\n    <tr>\n      <th>33</th>\n      <td>NaN</td>\n      <td>NaN</td>\n    </tr>\n    <tr>\n      <th>66</th>\n      <td>NaN</td>\n      <td>NaN</td>\n    </tr>\n    <tr>\n      <th>...</th>\n      <td>...</td>\n      <td>...</td>\n    </tr>\n    <tr>\n      <th>393835</th>\n      <td>NaN</td>\n      <td>NaN</td>\n    </tr>\n    <tr>\n      <th>393837</th>\n      <td>NaN</td>\n      <td>NaN</td>\n    </tr>\n    <tr>\n      <th>393854</th>\n      <td>NaN</td>\n      <td>NaN</td>\n    </tr>\n    <tr>\n      <th>393858</th>\n      <td>NaN</td>\n      <td>NaN</td>\n    </tr>\n    <tr>\n      <th>393946</th>\n      <td>NaN</td>\n      <td>NaN</td>\n    </tr>\n  </tbody>\n</table>\n<p>20332 rows × 2 columns</p>\n</div>"
     },
     "metadata": {},
     "execution_count": 36
    }
   ],
   "source": [
    "dataframe.iloc[invalid_coord_indices][[\"Longitude\", \"Latitude\"]]"
   ]
  },
  {
   "source": [
    "Hmm, interesting, they just have NaN values. Mayhaps we can just replace them with the center of mass of the police district polygons.\n",
    "\n",
    "Let's examine if these entries are missing information in the Police District column. Additionally, let's see how many of these entries are \"Out of SF\""
   ],
   "cell_type": "markdown",
   "metadata": {}
  },
  {
   "source": [
    "dataframe.iloc[invalid_coord_indices][\"Police District\"]"
   ],
   "cell_type": "code",
   "metadata": {},
   "execution_count": 39,
   "outputs": [
    {
     "output_type": "execute_result",
     "data": {
      "text/plain": [
       "0         Out of SF\n",
       "1              Park\n",
       "2              Park\n",
       "33         Richmond\n",
       "66         Southern\n",
       "            ...    \n",
       "393835         Park\n",
       "393837         Park\n",
       "393854     Northern\n",
       "393858      Taraval\n",
       "393946     Southern\n",
       "Name: Police District, Length: 20332, dtype: object"
      ]
     },
     "metadata": {},
     "execution_count": 39
    }
   ]
  },
  {
   "cell_type": "code",
   "execution_count": 44,
   "metadata": {},
   "outputs": [
    {
     "output_type": "execute_result",
     "data": {
      "text/plain": [
       "6797"
      ]
     },
     "metadata": {},
     "execution_count": 44
    }
   ],
   "source": [
    "len([idx for idx, entry in enumerate(dataframe.iloc[invalid_coord_indices][\"Police District\"] == \"Out of SF\") if entry == True])"
   ]
  },
  {
   "source": [
    "Of the 20332 invalid coordinates, 6797 of them are Outside of San Francisco County. There is no remedy for this so we need to just remove these entries.\n",
    "\n",
    "The other entries, on the other hand, can be remedied by making their coordinates the center of mass of their police district polygons."
   ],
   "cell_type": "markdown",
   "metadata": {}
  },
  {
   "cell_type": "code",
   "execution_count": null,
   "metadata": {},
   "outputs": [],
   "source": []
  },
  {
   "cell_type": "code",
   "execution_count": null,
   "metadata": {},
   "outputs": [],
   "source": []
  },
  {
   "cell_type": "code",
   "execution_count": null,
   "metadata": {},
   "outputs": [],
   "source": []
  },
  {
   "cell_type": "code",
   "execution_count": null,
   "metadata": {},
   "outputs": [],
   "source": []
  }
 ]
}