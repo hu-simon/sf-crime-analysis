{
 "metadata": {
  "language_info": {
   "codemirror_mode": {
    "name": "ipython",
    "version": 3
   },
   "file_extension": ".py",
   "mimetype": "text/x-python",
   "name": "python",
   "nbconvert_exporter": "python",
   "pygments_lexer": "ipython3",
   "version": "3.7.9-final"
  },
  "orig_nbformat": 2,
  "kernelspec": {
   "name": "sfcrime",
   "display_name": "sfcrime"
  }
 },
 "nbformat": 4,
 "nbformat_minor": 2,
 "cells": [
  {
   "source": [
    "## Finding the Center of Mass of the Police Districts\n",
    "\n",
    "* In this notebook, we find the centers of mass for each of the police districts, represented by polygons."
   ],
   "cell_type": "markdown",
   "metadata": {}
  },
  {
   "cell_type": "code",
   "execution_count": 1,
   "metadata": {},
   "outputs": [],
   "source": [
    "import os\n",
    "import time\n",
    "from tqdm import tqdm\n",
    "\n",
    "import gmaps\n",
    "import shapely\n",
    "import numpy as np\n",
    "import pandas as pd\n",
    "import geopandas as gpd\n",
    "\n",
    "import seaborn as sns\n",
    "import matplotlib.pyplot as plt"
   ]
  },
  {
   "cell_type": "code",
   "execution_count": 2,
   "metadata": {},
   "outputs": [],
   "source": [
    "# Set up API Authentication.\n",
    "key_path = \"/Users/administrator/Documents/Projects/abq_crime/api_key.txt\"\n",
    "with open(key_path) as f:\n",
    "    api_key = f.readline()\n",
    "    f.close()\n",
    "\n",
    "# Configure Google Maps API.\n",
    "gmaps.configure(api_key=api_key)"
   ]
  },
  {
   "cell_type": "code",
   "execution_count": 3,
   "metadata": {},
   "outputs": [],
   "source": [
    "shapefile_path = \"/Users/administrator/Documents/Projects/sf-crime-exploration/data/PdDistricts\"\n",
    "districts_dataframe = gpd.read_file(shapefile_path)\n",
    "districts_dataframe = districts_dataframe[[\"district\", \"geometry\"]]"
   ]
  },
  {
   "source": [
    "### Splitting MultiPolygons\n",
    "\n",
    "* In this section we split up multipolygons that represent a single police district. \n",
    "* We add the new polygons as entries in the dataframe and delete the original one."
   ],
   "cell_type": "markdown",
   "metadata": {}
  },
  {
   "cell_type": "code",
   "execution_count": 4,
   "metadata": {},
   "outputs": [],
   "source": [
    "# Find the indices of entries that contain a multipolygon in the geometry column.\n",
    "mpolygon_indices = [type(item) == shapely.geometry.multipolygon.MultiPolygon for item in districts_dataframe[\"geometry\"]]\n",
    "mpolygon_indices = [idx for idx, item in enumerate(mpolygon_indices) if item == True]"
   ]
  },
  {
   "cell_type": "code",
   "execution_count": 5,
   "metadata": {},
   "outputs": [],
   "source": [
    "# For the entries that contain a multipolygon, split up the polygons.\n",
    "new_entries = list()\n",
    "for index in mpolygon_indices:\n",
    "    district = districts_dataframe.iloc[index][\"district\"]\n",
    "    for poly in districts_dataframe.iloc[index][\"geometry\"]:\n",
    "        new_entries.append((district, poly))"
   ]
  },
  {
   "cell_type": "code",
   "execution_count": 6,
   "metadata": {},
   "outputs": [],
   "source": [
    "# Add these new entries into the dataframe, and delete the original ones.\n",
    "for entry in new_entries:\n",
    "    districts_dataframe.loc[len(districts_dataframe)] = entry\n",
    "\n",
    "# Delete the original entries.\n",
    "districts_dataframe.drop(mpolygon_indices, axis=0, inplace=True)\n",
    "districts_dataframe.reset_index(drop=True, inplace=True)"
   ]
  },
  {
   "source": [
    "### Converting from (Longitude, Latitude) to (Latitude, Longitude)\n",
    "\n",
    "* In this section we convert the vertices of the polygons from the (longitude, latitude) convention to the (latitude, longitude) convention.\n",
    "* This conversion is done so that the rest of the notebook is consistent and because most functions assume the (latitude, longitude) convention, especially the Google Maps API."
   ],
   "cell_type": "markdown",
   "metadata": {}
  },
  {
   "cell_type": "code",
   "execution_count": 7,
   "metadata": {},
   "outputs": [],
   "source": [
    "def convert_coordinates(polygon):\n",
    "    \"\"\"Converts coordinates from (longitude, latitude) to (latitude, longitude) for a collection of points.\n",
    "\n",
    "    Parameters\n",
    "    ----------\n",
    "    polygon : shapely.geometry.Polygon instance\n",
    "        Shapely Polygon containing coordinates in (longitude, latitude) format.\n",
    "\n",
    "    Returns\n",
    "    -------\n",
    "    polygon : shapely.geometry.Polygon instance\n",
    "        Shapely Polygon containing coordinates are in (latitude, longitude) format.\n",
    "\n",
    "    \"\"\"\n",
    "    polygon_vertices = polygon.exterior.coords[:]\n",
    "    for idx, vertex in enumerate(polygon_vertices):\n",
    "        polygon_vertices[idx] = vertex[::-1]\n",
    "    polygon = shapely.geometry.Polygon(polygon_vertices)\n",
    "\n",
    "    return polygon"
   ]
  },
  {
   "cell_type": "code",
   "execution_count": 8,
   "metadata": {},
   "outputs": [],
   "source": [
    "# Convert the coordinates from (longitude, latitude) to (latitude, longitude).\n",
    "districts_dataframe[\"geometry\"] = districts_dataframe[\"geometry\"].apply(lambda x: convert_coordinates(x))"
   ]
  },
  {
   "source": [
    "### Computing the Centers of Mass\n",
    "\n",
    "* In this section, we compute the center of mass for each of the polygons representing the police districts.\n",
    "\n",
    "As a test, let's find the center of mass for one of the polygons."
   ],
   "cell_type": "markdown",
   "metadata": {}
  },
  {
   "cell_type": "code",
   "execution_count": 9,
   "metadata": {},
   "outputs": [],
   "source": [
    "test_polygon = districts_dataframe.iloc[0][\"geometry\"]\n",
    "centroid_x = test_polygon.centroid.xy[:][0][0]\n",
    "centroid_y = test_polygon.centroid.xy[:][1][0]"
   ]
  },
  {
   "cell_type": "code",
   "execution_count": 10,
   "metadata": {},
   "outputs": [
    {
     "output_type": "display_data",
     "data": {
      "text/plain": "Figure(layout=FigureLayout(height='420px'))",
      "application/vnd.jupyter.widget-view+json": {
       "version_major": 2,
       "version_minor": 0,
       "model_id": "46a0e076cf324fabb69d9a47cf2c286f"
      }
     },
     "metadata": {}
    }
   ],
   "source": [
    "# Plot the polygon and the centroid using Google Maps.\n",
    "fig = gmaps.figure()\n",
    "drawing = gmaps.drawing_layer([gmaps.Polygon(test_polygon.exterior.coords[:], stroke_color=\"black\", stroke_opacity=0.2,)])\n",
    "marker = gmaps.marker_layer([(centroid_x, centroid_y)]) \n",
    "fig.add_layer(drawing)\n",
    "fig.add_layer(marker)\n",
    "fig"
   ]
  },
  {
   "source": [
    "From the above results, it looks like we can proceed. To modify the above method, we just need to do this for all the geometries and use lists instead of just a single marker/drawing."
   ],
   "cell_type": "markdown",
   "metadata": {}
  },
  {
   "cell_type": "code",
   "execution_count": 11,
   "metadata": {},
   "outputs": [],
   "source": [
    "# Collate the district polygons into a single list. Each element in this list will be a shapely.geometry.Polygon instance.\n",
    "district_polygons = [districts_dataframe[\"geometry\"][idx] for idx in range(len(districts_dataframe))]\n",
    "district_centroids = [polygon.centroid.xy[:] for polygon in district_polygons]\n",
    "district_vertices = [polygon.exterior.coords[:] for polygon in district_polygons]"
   ]
  },
  {
   "cell_type": "code",
   "execution_count": 12,
   "metadata": {},
   "outputs": [],
   "source": [
    "# Populate the drawing and marker lists.\n",
    "drawing_list = list()\n",
    "marker_list = list()\n",
    "\n",
    "for idx, vertices in enumerate(district_vertices):\n",
    "    drawing_list.append(gmaps.Polygon(vertices, stroke_color=\"black\", stroke_opacity=0.2,))\n",
    "    centroid = district_centroids[idx]\n",
    "    marker_list.append((centroid[0][0], centroid[1][0]))"
   ]
  },
  {
   "cell_type": "code",
   "execution_count": 13,
   "metadata": {},
   "outputs": [
    {
     "output_type": "display_data",
     "data": {
      "text/plain": "Figure(layout=FigureLayout(height='420px'))",
      "application/vnd.jupyter.widget-view+json": {
       "version_major": 2,
       "version_minor": 0,
       "model_id": "db43df07ef524a2f83dc828ecf7203f4"
      }
     },
     "metadata": {}
    }
   ],
   "source": [
    "# Plot the Polygons using the Google Maps API.\n",
    "fig = gmaps.figure()\n",
    "drawings = gmaps.drawing_layer(drawing_list)\n",
    "markers = gmaps.marker_layer(marker_list)\n",
    "fig.add_layer(drawings)\n",
    "fig.add_layer(markers)\n",
    "fig"
   ]
  },
  {
   "source": [
    "The centroids of the police districts have been computed. However, we should keep in mind that the Southern police district is composed of two polygons, so we really only have to pick one."
   ],
   "cell_type": "markdown",
   "metadata": {}
  },
  {
   "source": [
    "### Export the Centroid Information to CSV\n",
    "\n",
    "* With the centroids computed we can store the information in a Pandas DataFrame object for future usage.\n",
    "* Note that the new CSV file assumes (latitude, longitude) instead of (longitude, latitude).\n",
    "\n",
    "First, we need to edit the centroids information so that it is more easily accessible."
   ],
   "cell_type": "markdown",
   "metadata": {}
  },
  {
   "cell_type": "code",
   "execution_count": 14,
   "metadata": {},
   "outputs": [
    {
     "output_type": "stream",
     "name": "stdout",
     "text": [
      "[<shapely.geometry.point.Point object at 0x7fc11bf05290>, <shapely.geometry.point.Point object at 0x7fc11bf058d0>, <shapely.geometry.point.Point object at 0x7fc11bf05210>, <shapely.geometry.point.Point object at 0x7fc11bf05890>, <shapely.geometry.point.Point object at 0x7fc11bf05910>, <shapely.geometry.point.Point object at 0x7fc11bf05450>, <shapely.geometry.point.Point object at 0x7fc11bf05f50>, <shapely.geometry.point.Point object at 0x7fc11bf052d0>, <shapely.geometry.point.Point object at 0x7fc11bf05250>, <shapely.geometry.point.Point object at 0x7fc11bf05650>, <shapely.geometry.point.Point object at 0x7fc11bf054d0>]\n"
     ]
    }
   ],
   "source": [
    "centroids_list = list()\n",
    "for centroid in district_centroids:\n",
    "    centroids_list.append(shapely.geometry.Point(centroid[0][0], centroid[1][0]))\n",
    "print(centroids_list)"
   ]
  },
  {
   "cell_type": "code",
   "execution_count": 51,
   "metadata": {},
   "outputs": [
    {
     "output_type": "error",
     "ename": "AttributeError",
     "evalue": "module 'geopandas' has no attribute 'assign'",
     "traceback": [
      "\u001b[0;31m---------------------------------------------------------------------------\u001b[0m",
      "\u001b[0;31mAttributeError\u001b[0m                            Traceback (most recent call last)",
      "\u001b[0;32m<ipython-input-51-e85bc44fe80d>\u001b[0m in \u001b[0;36m<module>\u001b[0;34m\u001b[0m\n\u001b[1;32m      2\u001b[0m \u001b[0;31m# Make sure to use GeoPandas!\u001b[0m\u001b[0;34m\u001b[0m\u001b[0;34m\u001b[0m\u001b[0;34m\u001b[0m\u001b[0m\n\u001b[1;32m      3\u001b[0m \u001b[0mcentroids_dataframe\u001b[0m \u001b[0;34m=\u001b[0m \u001b[0mdistricts_dataframe\u001b[0m\u001b[0;34m.\u001b[0m\u001b[0mcopy\u001b[0m\u001b[0;34m(\u001b[0m\u001b[0;34m)\u001b[0m\u001b[0;34m\u001b[0m\u001b[0;34m\u001b[0m\u001b[0m\n\u001b[0;32m----> 4\u001b[0;31m \u001b[0mcentroids_dataframe\u001b[0m \u001b[0;34m=\u001b[0m \u001b[0mgpd\u001b[0m\u001b[0;34m.\u001b[0m\u001b[0massign\u001b[0m\u001b[0;34m(\u001b[0m\u001b[0mcentroid\u001b[0m\u001b[0;34m=\u001b[0m\u001b[0mcentroids_list\u001b[0m\u001b[0;34m)\u001b[0m\u001b[0;34m\u001b[0m\u001b[0;34m\u001b[0m\u001b[0m\n\u001b[0m",
      "\u001b[0;31mAttributeError\u001b[0m: module 'geopandas' has no attribute 'assign'"
     ]
    }
   ],
   "source": [
    "# Create a new DataFrame object containing the district and centroid information ONLY.\n",
    "# Make sure to use GeoPandas!\n",
    "centroids_dataframe = districts_dataframe.copy()\n",
    "centroids_dataframe = centroids_dataframe.assign(centroid=centroids_list)\n"
   ]
  },
  {
   "source": [
    "You left off above. The issue is that you need to use GeoPandas instead of Pandas DataFrame because that does not preserve the Shapely geometry information."
   ],
   "cell_type": "markdown",
   "metadata": {}
  },
  {
   "cell_type": "code",
   "execution_count": 36,
   "metadata": {},
   "outputs": [],
   "source": [
    "# Save the DataFrame into a CSV file.\n",
    "path = \"/Users/administrator/Documents/Projects/sf-crime-exploration/data/SFPD_District_Centroids.csv\"\n",
    "centroids_dataframe.to_csv(path, index=False)"
   ]
  },
  {
   "source": [
    "### Load Data from CSV File\n",
    "\n",
    "* In this section we load the CSV file that was just created, to ensure that the data is accessible."
   ],
   "cell_type": "markdown",
   "metadata": {}
  },
  {
   "cell_type": "code",
   "execution_count": 37,
   "metadata": {},
   "outputs": [
    {
     "output_type": "execute_result",
     "data": {
      "text/plain": [
       "      district                                           geometry  \\\n",
       "0      BAYVIEW  POLYGON ((37.76480022019017 -122.3809828136006...   \n",
       "1      MISSION  POLYGON ((37.769317718404 -122.4095391743523, ...   \n",
       "2     NORTHERN  POLYGON ((37.80793010706978 -122.4337921715291...   \n",
       "3   TENDERLOIN  POLYGON ((37.7862601311238 -122.4021713308171,...   \n",
       "4      CENTRAL  POLYGON ((37.80683854001055 -122.426120390961,...   \n",
       "5         PARK  POLYGON ((37.7831382837805 -122.4395563094215,...   \n",
       "6     RICHMOND  POLYGON ((37.79148984438553 -122.441268713802,...   \n",
       "7    INGLESIDE  POLYGON ((37.74858097286839 -122.4044981875426...   \n",
       "8      TARAVAL  POLYGON ((37.70810461000542 -122.4984166706208...   \n",
       "9     SOUTHERN  POLYGON ((37.79424680970543 -122.3918613881226...   \n",
       "10    SOUTHERN  POLYGON ((37.83197840099002 -122.3719216777244...   \n",
       "\n",
       "                                        centroid  \n",
       "0   POINT (37.73432830504337 -122.3896413590277)  \n",
       "1   POINT (37.75756983991986 -122.4226455774392)  \n",
       "2   POINT (37.78998465312932 -122.4317576421874)  \n",
       "3    POINT (37.78236656943267 -122.412761876948)  \n",
       "4   POINT (37.79791152508096 -122.4091616666903)  \n",
       "5   POINT (37.76434908040622 -122.4491077189602)  \n",
       "6   POINT (37.77760526628989 -122.4796602993393)  \n",
       "7   POINT (37.72788335066097 -122.4315859501734)  \n",
       "8   POINT (37.73663284365935 -122.4818302825414)  \n",
       "9   POINT (37.77632134223039 -122.3988620645398)  \n",
       "10   POINT (37.8207524437021 -122.3695729661866)  "
      ],
      "text/html": "<div>\n<style scoped>\n    .dataframe tbody tr th:only-of-type {\n        vertical-align: middle;\n    }\n\n    .dataframe tbody tr th {\n        vertical-align: top;\n    }\n\n    .dataframe thead th {\n        text-align: right;\n    }\n</style>\n<table border=\"1\" class=\"dataframe\">\n  <thead>\n    <tr style=\"text-align: right;\">\n      <th></th>\n      <th>district</th>\n      <th>geometry</th>\n      <th>centroid</th>\n    </tr>\n  </thead>\n  <tbody>\n    <tr>\n      <th>0</th>\n      <td>BAYVIEW</td>\n      <td>POLYGON ((37.76480022019017 -122.3809828136006...</td>\n      <td>POINT (37.73432830504337 -122.3896413590277)</td>\n    </tr>\n    <tr>\n      <th>1</th>\n      <td>MISSION</td>\n      <td>POLYGON ((37.769317718404 -122.4095391743523, ...</td>\n      <td>POINT (37.75756983991986 -122.4226455774392)</td>\n    </tr>\n    <tr>\n      <th>2</th>\n      <td>NORTHERN</td>\n      <td>POLYGON ((37.80793010706978 -122.4337921715291...</td>\n      <td>POINT (37.78998465312932 -122.4317576421874)</td>\n    </tr>\n    <tr>\n      <th>3</th>\n      <td>TENDERLOIN</td>\n      <td>POLYGON ((37.7862601311238 -122.4021713308171,...</td>\n      <td>POINT (37.78236656943267 -122.412761876948)</td>\n    </tr>\n    <tr>\n      <th>4</th>\n      <td>CENTRAL</td>\n      <td>POLYGON ((37.80683854001055 -122.426120390961,...</td>\n      <td>POINT (37.79791152508096 -122.4091616666903)</td>\n    </tr>\n    <tr>\n      <th>5</th>\n      <td>PARK</td>\n      <td>POLYGON ((37.7831382837805 -122.4395563094215,...</td>\n      <td>POINT (37.76434908040622 -122.4491077189602)</td>\n    </tr>\n    <tr>\n      <th>6</th>\n      <td>RICHMOND</td>\n      <td>POLYGON ((37.79148984438553 -122.441268713802,...</td>\n      <td>POINT (37.77760526628989 -122.4796602993393)</td>\n    </tr>\n    <tr>\n      <th>7</th>\n      <td>INGLESIDE</td>\n      <td>POLYGON ((37.74858097286839 -122.4044981875426...</td>\n      <td>POINT (37.72788335066097 -122.4315859501734)</td>\n    </tr>\n    <tr>\n      <th>8</th>\n      <td>TARAVAL</td>\n      <td>POLYGON ((37.70810461000542 -122.4984166706208...</td>\n      <td>POINT (37.73663284365935 -122.4818302825414)</td>\n    </tr>\n    <tr>\n      <th>9</th>\n      <td>SOUTHERN</td>\n      <td>POLYGON ((37.79424680970543 -122.3918613881226...</td>\n      <td>POINT (37.77632134223039 -122.3988620645398)</td>\n    </tr>\n    <tr>\n      <th>10</th>\n      <td>SOUTHERN</td>\n      <td>POLYGON ((37.83197840099002 -122.3719216777244...</td>\n      <td>POINT (37.8207524437021 -122.3695729661866)</td>\n    </tr>\n  </tbody>\n</table>\n</div>"
     },
     "metadata": {},
     "execution_count": 37
    }
   ],
   "source": [
    "centroids_dataframe = pd.read_csv(path)\n",
    "centroids_dataframe"
   ]
  },
  {
   "cell_type": "code",
   "execution_count": 38,
   "metadata": {},
   "outputs": [
    {
     "output_type": "execute_result",
     "data": {
      "text/plain": [
       "str"
      ]
     },
     "metadata": {},
     "execution_count": 38
    }
   ],
   "source": [
    "# Ensure that the type of object in the geometry column is a shapely.geometry.Polygon instance.\n",
    "type(centroids_dataframe[\"geometry\"][0])"
   ]
  },
  {
   "source": [
    "For some odd reason the data in the geometry column keeps getting saved as a str object instead of a shapely.geometry.Polygon object.\n",
    "\n",
    "Let's examine the original DataFrame."
   ],
   "cell_type": "markdown",
   "metadata": {}
  },
  {
   "cell_type": "code",
   "execution_count": 20,
   "metadata": {},
   "outputs": [
    {
     "output_type": "execute_result",
     "data": {
      "text/plain": [
       "shapely.geometry.polygon.Polygon"
      ]
     },
     "metadata": {},
     "execution_count": 20
    }
   ],
   "source": [
    "type(districts_dataframe[\"geometry\"][0])"
   ]
  },
  {
   "source": [
    "Interesting since the original DataFrame's geometry column contains shapely.geometry.Polygon objects."
   ],
   "cell_type": "markdown",
   "metadata": {}
  }
 ]
}