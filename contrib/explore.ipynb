{
 "metadata": {
  "language_info": {
   "codemirror_mode": {
    "name": "ipython",
    "version": 3
   },
   "file_extension": ".py",
   "mimetype": "text/x-python",
   "name": "python",
   "nbconvert_exporter": "python",
   "pygments_lexer": "ipython3",
   "version": "3.7.9-final"
  },
  "orig_nbformat": 2,
  "kernelspec": {
   "name": "sfcrime",
   "display_name": "sfcrime"
  }
 },
 "nbformat": 4,
 "nbformat_minor": 2,
 "cells": [
  {
   "source": [
    "**_This notebook is for exploring the data._**"
   ],
   "cell_type": "markdown",
   "metadata": {}
  },
  {
   "cell_type": "code",
   "execution_count": 1,
   "metadata": {},
   "outputs": [],
   "source": [
    "import os\n",
    "import time\n",
    "import glob\n",
    "from datetime import datetime\n",
    "\n",
    "import numpy as np\n",
    "import pandas as pd\n",
    "\n",
    "import seaborn as sns\n",
    "from pprint import pprint\n",
    "import matplotlib.pyplot as plt"
   ]
  },
  {
   "source": [
    "### Loading the Data"
   ],
   "cell_type": "markdown",
   "metadata": {}
  },
  {
   "cell_type": "code",
   "execution_count": 2,
   "metadata": {},
   "outputs": [
    {
     "output_type": "stream",
     "name": "stdout",
     "text": [
      "The shape of the 2008 to May 2018 data is: (2160953, 35)\nThe shape of the 2018 to Present data is: (394025, 36)\n"
     ]
    }
   ],
   "source": [
    "# Load the 2008 to May 2018 data\n",
    "data1 = pd.read_csv(\"../data/SFPD_Crime_Data_2008_May_2018.csv\")\n",
    "\n",
    "# Load the 2018 to Present data\n",
    "data2 = pd.read_csv(\"../data/SFPD_Crime_Data_2018_Present.csv\")\n",
    "\n",
    "# Check the shape of the data\n",
    "print(\"The shape of the 2008 to May 2018 data is: {}\".format(data1.shape))\n",
    "print(\"The shape of the 2018 to Present data is: {}\".format(data2.shape))"
   ]
  },
  {
   "cell_type": "code",
   "execution_count": 3,
   "metadata": {},
   "outputs": [
    {
     "output_type": "execute_result",
     "data": {
      "text/plain": [
       "             PdId  IncidntNum  Incident Code       Category  \\\n",
       "0  11087941463010   110879414          63010       WARRANTS   \n",
       "1   5117770316010    51177703          16010  DRUG/NARCOTIC   \n",
       "2   5011209707055    50112097           7055  VEHICLE THEFT   \n",
       "3  11044468164020   110444681          64020   NON-CRIMINAL   \n",
       "4   3038311107024    30383111           7024  VEHICLE THEFT   \n",
       "\n",
       "                                Descript DayOfWeek        Date   Time  \\\n",
       "0                         WARRANT ARREST    Friday  07/01/2011  08:00   \n",
       "1                POSSESSION OF MARIJUANA   Tuesday  10/18/2005  14:30   \n",
       "2  RECOVERED VEHICLE - STOLEN OUTSIDE SF  Saturday  01/29/2005  13:45   \n",
       "3           AIDED CASE, MENTAL DISTURBED  Thursday  06/02/2011  02:52   \n",
       "4                         STOLEN TRAILER  Saturday  02/01/2003  08:00   \n",
       "\n",
       "   PdDistrict         Resolution  ... Fix It Zones as of 2017-11-06  2 2  \\\n",
       "0    NORTHERN     ARREST, BOOKED  ...                                NaN   \n",
       "1  TENDERLOIN     ARREST, BOOKED  ...                                3.0   \n",
       "2     BAYVIEW               NONE  ...                                NaN   \n",
       "3     CENTRAL  PSYCHOPATHIC CASE  ...                                NaN   \n",
       "4     BAYVIEW               NONE  ...                                NaN   \n",
       "\n",
       "   DELETE - HSOC Zones 2 2  Fix It Zones as of 2018-02-07 2 2  \\\n",
       "0                      NaN                                NaN   \n",
       "1                      1.0                                3.0   \n",
       "2                      NaN                                NaN   \n",
       "3                      NaN                                NaN   \n",
       "4                      NaN                                NaN   \n",
       "\n",
       "  CBD, BID and GBD Boundaries as of 2017 2 2  \\\n",
       "0                                        NaN   \n",
       "1                                        6.0   \n",
       "2                                        NaN   \n",
       "3                                        NaN   \n",
       "4                                        NaN   \n",
       "\n",
       "   Areas of Vulnerability, 2016 2 2  Central Market/Tenderloin Boundary 2 2  \\\n",
       "0                               1.0                                     NaN   \n",
       "1                               2.0                                     1.0   \n",
       "2                               2.0                                     NaN   \n",
       "3                               1.0                                     NaN   \n",
       "4                               2.0                                     NaN   \n",
       "\n",
       "   Central Market/Tenderloin Boundary Polygon - Updated 2 2  \\\n",
       "0                                                NaN          \n",
       "1                                                1.0          \n",
       "2                                                NaN          \n",
       "3                                                NaN          \n",
       "4                                                NaN          \n",
       "\n",
       "   HSOC Zones as of 2018-06-05 2 2  OWED Public Spaces 2 2  Neighborhoods 2  \n",
       "0                              NaN                     NaN             17.0  \n",
       "1                              1.0                    39.0             21.0  \n",
       "2                              NaN                     NaN             86.0  \n",
       "3                              NaN                     NaN            107.0  \n",
       "4                              NaN                     NaN             86.0  \n",
       "\n",
       "[5 rows x 35 columns]"
      ],
      "text/html": "<div>\n<style scoped>\n    .dataframe tbody tr th:only-of-type {\n        vertical-align: middle;\n    }\n\n    .dataframe tbody tr th {\n        vertical-align: top;\n    }\n\n    .dataframe thead th {\n        text-align: right;\n    }\n</style>\n<table border=\"1\" class=\"dataframe\">\n  <thead>\n    <tr style=\"text-align: right;\">\n      <th></th>\n      <th>PdId</th>\n      <th>IncidntNum</th>\n      <th>Incident Code</th>\n      <th>Category</th>\n      <th>Descript</th>\n      <th>DayOfWeek</th>\n      <th>Date</th>\n      <th>Time</th>\n      <th>PdDistrict</th>\n      <th>Resolution</th>\n      <th>...</th>\n      <th>Fix It Zones as of 2017-11-06  2 2</th>\n      <th>DELETE - HSOC Zones 2 2</th>\n      <th>Fix It Zones as of 2018-02-07 2 2</th>\n      <th>CBD, BID and GBD Boundaries as of 2017 2 2</th>\n      <th>Areas of Vulnerability, 2016 2 2</th>\n      <th>Central Market/Tenderloin Boundary 2 2</th>\n      <th>Central Market/Tenderloin Boundary Polygon - Updated 2 2</th>\n      <th>HSOC Zones as of 2018-06-05 2 2</th>\n      <th>OWED Public Spaces 2 2</th>\n      <th>Neighborhoods 2</th>\n    </tr>\n  </thead>\n  <tbody>\n    <tr>\n      <th>0</th>\n      <td>11087941463010</td>\n      <td>110879414</td>\n      <td>63010</td>\n      <td>WARRANTS</td>\n      <td>WARRANT ARREST</td>\n      <td>Friday</td>\n      <td>07/01/2011</td>\n      <td>08:00</td>\n      <td>NORTHERN</td>\n      <td>ARREST, BOOKED</td>\n      <td>...</td>\n      <td>NaN</td>\n      <td>NaN</td>\n      <td>NaN</td>\n      <td>NaN</td>\n      <td>1.0</td>\n      <td>NaN</td>\n      <td>NaN</td>\n      <td>NaN</td>\n      <td>NaN</td>\n      <td>17.0</td>\n    </tr>\n    <tr>\n      <th>1</th>\n      <td>5117770316010</td>\n      <td>51177703</td>\n      <td>16010</td>\n      <td>DRUG/NARCOTIC</td>\n      <td>POSSESSION OF MARIJUANA</td>\n      <td>Tuesday</td>\n      <td>10/18/2005</td>\n      <td>14:30</td>\n      <td>TENDERLOIN</td>\n      <td>ARREST, BOOKED</td>\n      <td>...</td>\n      <td>3.0</td>\n      <td>1.0</td>\n      <td>3.0</td>\n      <td>6.0</td>\n      <td>2.0</td>\n      <td>1.0</td>\n      <td>1.0</td>\n      <td>1.0</td>\n      <td>39.0</td>\n      <td>21.0</td>\n    </tr>\n    <tr>\n      <th>2</th>\n      <td>5011209707055</td>\n      <td>50112097</td>\n      <td>7055</td>\n      <td>VEHICLE THEFT</td>\n      <td>RECOVERED VEHICLE - STOLEN OUTSIDE SF</td>\n      <td>Saturday</td>\n      <td>01/29/2005</td>\n      <td>13:45</td>\n      <td>BAYVIEW</td>\n      <td>NONE</td>\n      <td>...</td>\n      <td>NaN</td>\n      <td>NaN</td>\n      <td>NaN</td>\n      <td>NaN</td>\n      <td>2.0</td>\n      <td>NaN</td>\n      <td>NaN</td>\n      <td>NaN</td>\n      <td>NaN</td>\n      <td>86.0</td>\n    </tr>\n    <tr>\n      <th>3</th>\n      <td>11044468164020</td>\n      <td>110444681</td>\n      <td>64020</td>\n      <td>NON-CRIMINAL</td>\n      <td>AIDED CASE, MENTAL DISTURBED</td>\n      <td>Thursday</td>\n      <td>06/02/2011</td>\n      <td>02:52</td>\n      <td>CENTRAL</td>\n      <td>PSYCHOPATHIC CASE</td>\n      <td>...</td>\n      <td>NaN</td>\n      <td>NaN</td>\n      <td>NaN</td>\n      <td>NaN</td>\n      <td>1.0</td>\n      <td>NaN</td>\n      <td>NaN</td>\n      <td>NaN</td>\n      <td>NaN</td>\n      <td>107.0</td>\n    </tr>\n    <tr>\n      <th>4</th>\n      <td>3038311107024</td>\n      <td>30383111</td>\n      <td>7024</td>\n      <td>VEHICLE THEFT</td>\n      <td>STOLEN TRAILER</td>\n      <td>Saturday</td>\n      <td>02/01/2003</td>\n      <td>08:00</td>\n      <td>BAYVIEW</td>\n      <td>NONE</td>\n      <td>...</td>\n      <td>NaN</td>\n      <td>NaN</td>\n      <td>NaN</td>\n      <td>NaN</td>\n      <td>2.0</td>\n      <td>NaN</td>\n      <td>NaN</td>\n      <td>NaN</td>\n      <td>NaN</td>\n      <td>86.0</td>\n    </tr>\n  </tbody>\n</table>\n<p>5 rows × 35 columns</p>\n</div>"
     },
     "metadata": {},
     "execution_count": 3
    }
   ],
   "source": [
    "data1.head()"
   ]
  },
  {
   "cell_type": "code",
   "execution_count": 4,
   "metadata": {},
   "outputs": [
    {
     "output_type": "execute_result",
     "data": {
      "text/plain": [
       "        Incident Datetime Incident Date Incident Time  Incident Year  \\\n",
       "0  2020/08/15 08:56:00 AM    2020/08/15         08:56           2020   \n",
       "1  2020/08/15 09:40:00 AM    2020/08/15         09:40           2020   \n",
       "2  2018/02/24 10:00:00 PM    2018/02/24         22:00           2018   \n",
       "3  2020/08/16 03:13:00 AM    2020/08/16         03:13           2020   \n",
       "4  2020/08/16 03:38:00 AM    2020/08/16         03:38           2020   \n",
       "\n",
       "  Incident Day of Week         Report Datetime       Row ID  Incident ID  \\\n",
       "0             Saturday  2020/08/15 08:56:00 AM  95300907041       953009   \n",
       "1             Saturday  2020/08/15 06:21:00 PM  95322706244       953227   \n",
       "2             Saturday  2018/03/02 10:13:00 AM  64174871000       641748   \n",
       "3               Sunday  2020/08/16 03:14:00 AM  95319604083       953196   \n",
       "4               Sunday  2020/08/16 04:56:00 AM  95326228100       953262   \n",
       "\n",
       "   Incident Number   CAD Number  ... SF Find Neighborhoods  \\\n",
       "0        200474239          NaN  ...                   NaN   \n",
       "1        206121692          NaN  ...                   NaN   \n",
       "2        186051531          NaN  ...                   NaN   \n",
       "3        200491669  202290313.0  ...                  54.0   \n",
       "4        200491738  202290404.0  ...                  53.0   \n",
       "\n",
       "  Current Police Districts Current Supervisor Districts  \\\n",
       "0                      NaN                          NaN   \n",
       "1                      NaN                          NaN   \n",
       "2                      NaN                          NaN   \n",
       "3                      2.0                          9.0   \n",
       "4                      3.0                          2.0   \n",
       "\n",
       "   Analysis Neighborhoods HSOC Zones as of 2018-06-05 OWED Public Spaces  \\\n",
       "0                     NaN                         NaN                NaN   \n",
       "1                     NaN                         NaN                NaN   \n",
       "2                     NaN                         NaN                NaN   \n",
       "3                    26.0                         NaN                NaN   \n",
       "4                    20.0                         3.0                NaN   \n",
       "\n",
       "  Central Market/Tenderloin Boundary Polygon - Updated  \\\n",
       "0                                                NaN     \n",
       "1                                                NaN     \n",
       "2                                                NaN     \n",
       "3                                                NaN     \n",
       "4                                                NaN     \n",
       "\n",
       "  Parks Alliance CPSI (27+TL sites) ESNCAG - Boundary File  \\\n",
       "0                               NaN                    NaN   \n",
       "1                               NaN                    NaN   \n",
       "2                               NaN                    NaN   \n",
       "3                               NaN                    NaN   \n",
       "4                               NaN                    NaN   \n",
       "\n",
       "   Areas of Vulnerability, 2016  \n",
       "0                           NaN  \n",
       "1                           NaN  \n",
       "2                           NaN  \n",
       "3                           2.0  \n",
       "4                           2.0  \n",
       "\n",
       "[5 rows x 36 columns]"
      ],
      "text/html": "<div>\n<style scoped>\n    .dataframe tbody tr th:only-of-type {\n        vertical-align: middle;\n    }\n\n    .dataframe tbody tr th {\n        vertical-align: top;\n    }\n\n    .dataframe thead th {\n        text-align: right;\n    }\n</style>\n<table border=\"1\" class=\"dataframe\">\n  <thead>\n    <tr style=\"text-align: right;\">\n      <th></th>\n      <th>Incident Datetime</th>\n      <th>Incident Date</th>\n      <th>Incident Time</th>\n      <th>Incident Year</th>\n      <th>Incident Day of Week</th>\n      <th>Report Datetime</th>\n      <th>Row ID</th>\n      <th>Incident ID</th>\n      <th>Incident Number</th>\n      <th>CAD Number</th>\n      <th>...</th>\n      <th>SF Find Neighborhoods</th>\n      <th>Current Police Districts</th>\n      <th>Current Supervisor Districts</th>\n      <th>Analysis Neighborhoods</th>\n      <th>HSOC Zones as of 2018-06-05</th>\n      <th>OWED Public Spaces</th>\n      <th>Central Market/Tenderloin Boundary Polygon - Updated</th>\n      <th>Parks Alliance CPSI (27+TL sites)</th>\n      <th>ESNCAG - Boundary File</th>\n      <th>Areas of Vulnerability, 2016</th>\n    </tr>\n  </thead>\n  <tbody>\n    <tr>\n      <th>0</th>\n      <td>2020/08/15 08:56:00 AM</td>\n      <td>2020/08/15</td>\n      <td>08:56</td>\n      <td>2020</td>\n      <td>Saturday</td>\n      <td>2020/08/15 08:56:00 AM</td>\n      <td>95300907041</td>\n      <td>953009</td>\n      <td>200474239</td>\n      <td>NaN</td>\n      <td>...</td>\n      <td>NaN</td>\n      <td>NaN</td>\n      <td>NaN</td>\n      <td>NaN</td>\n      <td>NaN</td>\n      <td>NaN</td>\n      <td>NaN</td>\n      <td>NaN</td>\n      <td>NaN</td>\n      <td>NaN</td>\n    </tr>\n    <tr>\n      <th>1</th>\n      <td>2020/08/15 09:40:00 AM</td>\n      <td>2020/08/15</td>\n      <td>09:40</td>\n      <td>2020</td>\n      <td>Saturday</td>\n      <td>2020/08/15 06:21:00 PM</td>\n      <td>95322706244</td>\n      <td>953227</td>\n      <td>206121692</td>\n      <td>NaN</td>\n      <td>...</td>\n      <td>NaN</td>\n      <td>NaN</td>\n      <td>NaN</td>\n      <td>NaN</td>\n      <td>NaN</td>\n      <td>NaN</td>\n      <td>NaN</td>\n      <td>NaN</td>\n      <td>NaN</td>\n      <td>NaN</td>\n    </tr>\n    <tr>\n      <th>2</th>\n      <td>2018/02/24 10:00:00 PM</td>\n      <td>2018/02/24</td>\n      <td>22:00</td>\n      <td>2018</td>\n      <td>Saturday</td>\n      <td>2018/03/02 10:13:00 AM</td>\n      <td>64174871000</td>\n      <td>641748</td>\n      <td>186051531</td>\n      <td>NaN</td>\n      <td>...</td>\n      <td>NaN</td>\n      <td>NaN</td>\n      <td>NaN</td>\n      <td>NaN</td>\n      <td>NaN</td>\n      <td>NaN</td>\n      <td>NaN</td>\n      <td>NaN</td>\n      <td>NaN</td>\n      <td>NaN</td>\n    </tr>\n    <tr>\n      <th>3</th>\n      <td>2020/08/16 03:13:00 AM</td>\n      <td>2020/08/16</td>\n      <td>03:13</td>\n      <td>2020</td>\n      <td>Sunday</td>\n      <td>2020/08/16 03:14:00 AM</td>\n      <td>95319604083</td>\n      <td>953196</td>\n      <td>200491669</td>\n      <td>202290313.0</td>\n      <td>...</td>\n      <td>54.0</td>\n      <td>2.0</td>\n      <td>9.0</td>\n      <td>26.0</td>\n      <td>NaN</td>\n      <td>NaN</td>\n      <td>NaN</td>\n      <td>NaN</td>\n      <td>NaN</td>\n      <td>2.0</td>\n    </tr>\n    <tr>\n      <th>4</th>\n      <td>2020/08/16 03:38:00 AM</td>\n      <td>2020/08/16</td>\n      <td>03:38</td>\n      <td>2020</td>\n      <td>Sunday</td>\n      <td>2020/08/16 04:56:00 AM</td>\n      <td>95326228100</td>\n      <td>953262</td>\n      <td>200491738</td>\n      <td>202290404.0</td>\n      <td>...</td>\n      <td>53.0</td>\n      <td>3.0</td>\n      <td>2.0</td>\n      <td>20.0</td>\n      <td>3.0</td>\n      <td>NaN</td>\n      <td>NaN</td>\n      <td>NaN</td>\n      <td>NaN</td>\n      <td>2.0</td>\n    </tr>\n  </tbody>\n</table>\n<p>5 rows × 36 columns</p>\n</div>"
     },
     "metadata": {},
     "execution_count": 4
    }
   ],
   "source": [
    "data2.head()"
   ]
  },
  {
   "source": [
    "Let's consider which columns that we want to keep.\n",
    "* Category\n",
    "* Description (optional)\n",
    "* Day of the Week\n",
    "* Date\n",
    "* Time\n",
    "* District\n",
    "* X coordinate\n",
    "* Y coordinate"
   ],
   "cell_type": "markdown",
   "metadata": {}
  },
  {
   "cell_type": "code",
   "execution_count": 5,
   "metadata": {},
   "outputs": [],
   "source": [
    "# Identify the subsets that we want to keep\n",
    "subset1 = [\"Category\", \"DayOfWeek\", \"Date\", \"Time\", \"PdDistrict\", \"X\", \"Y\"]\n",
    "subset2 = [\n",
    "    \"Incident Category\",\n",
    "    \"Incident Day of Week\",\n",
    "    \"Incident Date\", \n",
    "    \"Incident Time\", \n",
    "    \"Police District\", \n",
    "    \"Latitude\", \n",
    "    \"Longitude\",\n",
    "]"
   ]
  },
  {
   "source": [
    "### Removing Null Values"
   ],
   "cell_type": "markdown",
   "metadata": {}
  },
  {
   "cell_type": "code",
   "execution_count": 6,
   "metadata": {},
   "outputs": [
    {
     "output_type": "execute_result",
     "data": {
      "text/plain": [
       "PdId                                                              0\n",
       "IncidntNum                                                        0\n",
       "Incident Code                                                     0\n",
       "Category                                                          0\n",
       "Descript                                                          0\n",
       "DayOfWeek                                                         0\n",
       "Date                                                              0\n",
       "Time                                                              0\n",
       "PdDistrict                                                        1\n",
       "Resolution                                                        0\n",
       "Address                                                           0\n",
       "X                                                                 0\n",
       "Y                                                                 0\n",
       "location                                                          0\n",
       "SF Find Neighborhoods 2 2                                      6003\n",
       "Current Police Districts 2 2                                   1094\n",
       "Current Supervisor Districts 2 2                                659\n",
       "Analysis Neighborhoods 2 2                                     1039\n",
       "DELETE - Fire Prevention Districts 2 2                         5348\n",
       "DELETE - Police Districts 2 2                                  1502\n",
       "DELETE - Supervisor Districts 2 2                               659\n",
       "DELETE - Zip Codes 2 2                                          494\n",
       "DELETE - Neighborhoods 2 2                                     1039\n",
       "DELETE - 2017 Fix It Zones 2 2                              1622947\n",
       "Civic Center Harm Reduction Project Boundary 2 2            1845081\n",
       "Fix It Zones as of 2017-11-06  2 2                          1608078\n",
       "DELETE - HSOC Zones 2 2                                     1695693\n",
       "Fix It Zones as of 2018-02-07 2 2                           1602497\n",
       "CBD, BID and GBD Boundaries as of 2017 2 2                  1602909\n",
       "Areas of Vulnerability, 2016 2 2                               1039\n",
       "Central Market/Tenderloin Boundary 2 2                      1823593\n",
       "Central Market/Tenderloin Boundary Polygon - Updated 2 2    1823387\n",
       "HSOC Zones as of 2018-06-05 2 2                             1666749\n",
       "OWED Public Spaces 2 2                                      2044293\n",
       "Neighborhoods 2                                                6003\n",
       "dtype: int64"
      ]
     },
     "metadata": {},
     "execution_count": 6
    }
   ],
   "source": [
    "# Identify the NULL values in the first database\n",
    "data1.isnull().sum()"
   ]
  },
  {
   "cell_type": "code",
   "execution_count": 7,
   "metadata": {},
   "outputs": [
    {
     "output_type": "execute_result",
     "data": {
      "text/plain": [
       "Incident Datetime                                            0\n",
       "Incident Date                                                0\n",
       "Incident Time                                                0\n",
       "Incident Year                                                0\n",
       "Incident Day of Week                                         0\n",
       "Report Datetime                                              0\n",
       "Row ID                                                       0\n",
       "Incident ID                                                  0\n",
       "Incident Number                                              0\n",
       "CAD Number                                               88433\n",
       "Report Type Code                                             0\n",
       "Report Type Description                                      0\n",
       "Filed Online                                            312394\n",
       "Incident Code                                                0\n",
       "Incident Category                                          267\n",
       "Incident Subcategory                                       267\n",
       "Incident Description                                         0\n",
       "Resolution                                                   0\n",
       "Intersection                                             20332\n",
       "CNN                                                      20332\n",
       "Police District                                              0\n",
       "Analysis Neighborhood                                    20412\n",
       "Supervisor District                                      20332\n",
       "Latitude                                                 20332\n",
       "Longitude                                                20332\n",
       "point                                                    20332\n",
       "SF Find Neighborhoods                                    28400\n",
       "Current Police Districts                                 20864\n",
       "Current Supervisor Districts                             20408\n",
       "Analysis Neighborhoods                                   20488\n",
       "HSOC Zones as of 2018-06-05                             307285\n",
       "OWED Public Spaces                                      375263\n",
       "Central Market/Tenderloin Boundary Polygon - Updated    342071\n",
       "Parks Alliance CPSI (27+TL sites)                       389504\n",
       "ESNCAG - Boundary File                                  389755\n",
       "Areas of Vulnerability, 2016                             20488\n",
       "dtype: int64"
      ]
     },
     "metadata": {},
     "execution_count": 7
    }
   ],
   "source": [
    "# Identify the NULL values in the second database\n",
    "data2.isnull().sum()"
   ]
  },
  {
   "source": [
    "For the first dataset, it doesn't look like there are a lot of missing *important* data (i.e. date, time, district, category, etc.).\n",
    "\n",
    "For the second dataset, it looks like there is a lot of missing *important* data. For example, there are 267 entries that are missing the category information, and there are over 20332 entries that are missing the latitude and longitude information.\n",
    "\n",
    "Regardless, there is actually very little data loss since the dataset is so large."
   ],
   "cell_type": "markdown",
   "metadata": {}
  },
  {
   "cell_type": "code",
   "execution_count": 8,
   "metadata": {},
   "outputs": [],
   "source": [
    "# Remove the bad entries from dataset one.\n",
    "data1.dropna(subset=subset1, inplace=True)"
   ]
  },
  {
   "cell_type": "code",
   "execution_count": 9,
   "metadata": {},
   "outputs": [],
   "source": [
    "# Remove the bad entries from dataset two.\n",
    "data2.dropna(subset=subset2, inplace=True)"
   ]
  },
  {
   "source": [
    "# Confirm that there are no longer any NULL values for the desired subsets, for database 1.\n",
    "data1.isnull().sum()"
   ],
   "cell_type": "code",
   "metadata": {},
   "execution_count": 10,
   "outputs": [
    {
     "output_type": "execute_result",
     "data": {
      "text/plain": [
       "PdId                                                              0\n",
       "IncidntNum                                                        0\n",
       "Incident Code                                                     0\n",
       "Category                                                          0\n",
       "Descript                                                          0\n",
       "DayOfWeek                                                         0\n",
       "Date                                                              0\n",
       "Time                                                              0\n",
       "PdDistrict                                                        0\n",
       "Resolution                                                        0\n",
       "Address                                                           0\n",
       "X                                                                 0\n",
       "Y                                                                 0\n",
       "location                                                          0\n",
       "SF Find Neighborhoods 2 2                                      6002\n",
       "Current Police Districts 2 2                                   1093\n",
       "Current Supervisor Districts 2 2                                658\n",
       "Analysis Neighborhoods 2 2                                     1038\n",
       "DELETE - Fire Prevention Districts 2 2                         5347\n",
       "DELETE - Police Districts 2 2                                  1501\n",
       "DELETE - Supervisor Districts 2 2                               658\n",
       "DELETE - Zip Codes 2 2                                          494\n",
       "DELETE - Neighborhoods 2 2                                     1038\n",
       "DELETE - 2017 Fix It Zones 2 2                              1622946\n",
       "Civic Center Harm Reduction Project Boundary 2 2            1845080\n",
       "Fix It Zones as of 2017-11-06  2 2                          1608077\n",
       "DELETE - HSOC Zones 2 2                                     1695692\n",
       "Fix It Zones as of 2018-02-07 2 2                           1602496\n",
       "CBD, BID and GBD Boundaries as of 2017 2 2                  1602908\n",
       "Areas of Vulnerability, 2016 2 2                               1038\n",
       "Central Market/Tenderloin Boundary 2 2                      1823592\n",
       "Central Market/Tenderloin Boundary Polygon - Updated 2 2    1823386\n",
       "HSOC Zones as of 2018-06-05 2 2                             1666748\n",
       "OWED Public Spaces 2 2                                      2044292\n",
       "Neighborhoods 2                                                6002\n",
       "dtype: int64"
      ]
     },
     "metadata": {},
     "execution_count": 10
    }
   ]
  },
  {
   "cell_type": "code",
   "execution_count": 11,
   "metadata": {},
   "outputs": [
    {
     "output_type": "execute_result",
     "data": {
      "text/plain": [
       "Incident Datetime                                            0\n",
       "Incident Date                                                0\n",
       "Incident Time                                                0\n",
       "Incident Year                                                0\n",
       "Incident Day of Week                                         0\n",
       "Report Datetime                                              0\n",
       "Row ID                                                       0\n",
       "Incident ID                                                  0\n",
       "Incident Number                                              0\n",
       "CAD Number                                               69527\n",
       "Report Type Code                                             0\n",
       "Report Type Description                                      0\n",
       "Filed Online                                            306926\n",
       "Incident Code                                                0\n",
       "Incident Category                                            0\n",
       "Incident Subcategory                                         0\n",
       "Incident Description                                         0\n",
       "Resolution                                                   0\n",
       "Intersection                                                 0\n",
       "CNN                                                          0\n",
       "Police District                                              0\n",
       "Analysis Neighborhood                                       80\n",
       "Supervisor District                                          0\n",
       "Latitude                                                     0\n",
       "Longitude                                                    0\n",
       "point                                                        0\n",
       "SF Find Neighborhoods                                     8055\n",
       "Current Police Districts                                   532\n",
       "Current Supervisor Districts                                76\n",
       "Analysis Neighborhoods                                     156\n",
       "HSOC Zones as of 2018-06-05                             286775\n",
       "OWED Public Spaces                                      354683\n",
       "Central Market/Tenderloin Boundary Polygon - Updated    321510\n",
       "Parks Alliance CPSI (27+TL sites)                       368918\n",
       "ESNCAG - Boundary File                                  369161\n",
       "Areas of Vulnerability, 2016                               156\n",
       "dtype: int64"
      ]
     },
     "metadata": {},
     "execution_count": 11
    }
   ],
   "source": [
    "# Confirm that there are no longer any NULL values for the desired subsets, for database 2.\n",
    "data2.isnull().sum()"
   ]
  },
  {
   "source": [
    "The data now contains no NULL values for the columns that we are interested in. Now we can move on to merging the dataset."
   ],
   "cell_type": "markdown",
   "metadata": {}
  },
  {
   "source": [
    "### Select Categories\n",
    "* Create a new DataFrame that contains only the columns that we are interested in.\n",
    "* To be consistent, the columns will be renamed and ordered as follows:\n",
    "    * Category\n",
    "    * Day of Week\n",
    "    * Date\n",
    "    * Time\n",
    "    * District\n",
    "    * Longitude\n",
    "    * Latitude"
   ],
   "cell_type": "markdown",
   "metadata": {}
  },
  {
   "cell_type": "code",
   "execution_count": 12,
   "metadata": {},
   "outputs": [],
   "source": [
    "master_columns = [\"Category\", \"Day of Week\", \"Date\", \"Time\", \"District\", \"Longitude\", \"Latitude\"]"
   ]
  },
  {
   "cell_type": "code",
   "execution_count": 19,
   "metadata": {},
   "outputs": [
    {
     "output_type": "execute_result",
     "data": {
      "text/plain": [
       "        Category Incident Day of Week        Date   Time    District  \\\n",
       "0       WARRANTS               Friday  07/01/2011  08:00    NORTHERN   \n",
       "1  DRUG/NARCOTIC              Tuesday  10/18/2005  14:30  TENDERLOIN   \n",
       "2  VEHICLE THEFT             Saturday  01/29/2005  13:45     BAYVIEW   \n",
       "3   NON-CRIMINAL             Thursday  06/02/2011  02:52     CENTRAL   \n",
       "4  VEHICLE THEFT             Saturday  02/01/2003  08:00     BAYVIEW   \n",
       "\n",
       "    Longitude   Latitude  \n",
       "0 -122.439758  37.802151  \n",
       "1 -122.414318  37.779944  \n",
       "2 -122.388799  37.737576  \n",
       "3 -122.414354  37.803109  \n",
       "4 -122.401097  37.724556  "
      ],
      "text/html": "<div>\n<style scoped>\n    .dataframe tbody tr th:only-of-type {\n        vertical-align: middle;\n    }\n\n    .dataframe tbody tr th {\n        vertical-align: top;\n    }\n\n    .dataframe thead th {\n        text-align: right;\n    }\n</style>\n<table border=\"1\" class=\"dataframe\">\n  <thead>\n    <tr style=\"text-align: right;\">\n      <th></th>\n      <th>Category</th>\n      <th>Incident Day of Week</th>\n      <th>Date</th>\n      <th>Time</th>\n      <th>District</th>\n      <th>Longitude</th>\n      <th>Latitude</th>\n    </tr>\n  </thead>\n  <tbody>\n    <tr>\n      <th>0</th>\n      <td>WARRANTS</td>\n      <td>Friday</td>\n      <td>07/01/2011</td>\n      <td>08:00</td>\n      <td>NORTHERN</td>\n      <td>-122.439758</td>\n      <td>37.802151</td>\n    </tr>\n    <tr>\n      <th>1</th>\n      <td>DRUG/NARCOTIC</td>\n      <td>Tuesday</td>\n      <td>10/18/2005</td>\n      <td>14:30</td>\n      <td>TENDERLOIN</td>\n      <td>-122.414318</td>\n      <td>37.779944</td>\n    </tr>\n    <tr>\n      <th>2</th>\n      <td>VEHICLE THEFT</td>\n      <td>Saturday</td>\n      <td>01/29/2005</td>\n      <td>13:45</td>\n      <td>BAYVIEW</td>\n      <td>-122.388799</td>\n      <td>37.737576</td>\n    </tr>\n    <tr>\n      <th>3</th>\n      <td>NON-CRIMINAL</td>\n      <td>Thursday</td>\n      <td>06/02/2011</td>\n      <td>02:52</td>\n      <td>CENTRAL</td>\n      <td>-122.414354</td>\n      <td>37.803109</td>\n    </tr>\n    <tr>\n      <th>4</th>\n      <td>VEHICLE THEFT</td>\n      <td>Saturday</td>\n      <td>02/01/2003</td>\n      <td>08:00</td>\n      <td>BAYVIEW</td>\n      <td>-122.401097</td>\n      <td>37.724556</td>\n    </tr>\n  </tbody>\n</table>\n</div>"
     },
     "metadata": {},
     "execution_count": 19
    }
   ],
   "source": [
    "# Select the subset from dataset one, and rename the columns if required\n",
    "data1_subset = data1[subset1]\n",
    "\n",
    "# Rename the categories\n",
    "data1_subset.rename(columns={\"DayOfWeek\": \"Incident Day of Week\", \"PdDistrict\": \"District\", \"X\": \"Longitude\", \"Y\": \"Latitude\"}, inplace=True)\n",
    "\n",
    "# Remove \"Out of SF\" from the District category if it exists in the first dataset.\n",
    "data1_subset[\"District\"] = data1_subset[\"District\"][data1_subset[\"District\"] != \"Out of SF\"]\n",
    "\n",
    "data1_subset.head()"
   ]
  },
  {
   "cell_type": "code",
   "execution_count": 106,
   "metadata": {},
   "outputs": [
    {
     "output_type": "execute_result",
     "data": {
      "text/plain": [
       "             Category Day of Week        Date   Time  District   Longitude  \\\n",
       "3             Assault      Sunday  2020/08/16  03:13   Bayview -122.397729   \n",
       "4  Malicious Mischief      Sunday  2020/08/16  03:38   Mission -122.422044   \n",
       "5        Non-Criminal      Sunday  2020/08/16  13:40  Southern -122.403712   \n",
       "6     Weapons Offense      Sunday  2020/08/16  16:18   Taraval -122.507416   \n",
       "7      Missing Person   Wednesday  2020/08/12  22:00  Northern -122.432140   \n",
       "\n",
       "    Latitude  \n",
       "3  37.754827  \n",
       "4  37.766540  \n",
       "5  37.784044  \n",
       "6  37.751003  \n",
       "7  37.780496  "
      ],
      "text/html": "<div>\n<style scoped>\n    .dataframe tbody tr th:only-of-type {\n        vertical-align: middle;\n    }\n\n    .dataframe tbody tr th {\n        vertical-align: top;\n    }\n\n    .dataframe thead th {\n        text-align: right;\n    }\n</style>\n<table border=\"1\" class=\"dataframe\">\n  <thead>\n    <tr style=\"text-align: right;\">\n      <th></th>\n      <th>Category</th>\n      <th>Day of Week</th>\n      <th>Date</th>\n      <th>Time</th>\n      <th>District</th>\n      <th>Longitude</th>\n      <th>Latitude</th>\n    </tr>\n  </thead>\n  <tbody>\n    <tr>\n      <th>3</th>\n      <td>Assault</td>\n      <td>Sunday</td>\n      <td>2020/08/16</td>\n      <td>03:13</td>\n      <td>Bayview</td>\n      <td>-122.397729</td>\n      <td>37.754827</td>\n    </tr>\n    <tr>\n      <th>4</th>\n      <td>Malicious Mischief</td>\n      <td>Sunday</td>\n      <td>2020/08/16</td>\n      <td>03:38</td>\n      <td>Mission</td>\n      <td>-122.422044</td>\n      <td>37.766540</td>\n    </tr>\n    <tr>\n      <th>5</th>\n      <td>Non-Criminal</td>\n      <td>Sunday</td>\n      <td>2020/08/16</td>\n      <td>13:40</td>\n      <td>Southern</td>\n      <td>-122.403712</td>\n      <td>37.784044</td>\n    </tr>\n    <tr>\n      <th>6</th>\n      <td>Weapons Offense</td>\n      <td>Sunday</td>\n      <td>2020/08/16</td>\n      <td>16:18</td>\n      <td>Taraval</td>\n      <td>-122.507416</td>\n      <td>37.751003</td>\n    </tr>\n    <tr>\n      <th>7</th>\n      <td>Missing Person</td>\n      <td>Wednesday</td>\n      <td>2020/08/12</td>\n      <td>22:00</td>\n      <td>Northern</td>\n      <td>-122.432140</td>\n      <td>37.780496</td>\n    </tr>\n  </tbody>\n</table>\n</div>"
     },
     "metadata": {},
     "execution_count": 106
    }
   ],
   "source": [
    "# Select the subset from dataset two.\n",
    "data2_subset = data2[subset2]\n",
    "\n",
    "# Rename the categories\n",
    "data2_subset.rename(columns={\"Incident Category\" : \"Category\", \"Incident Day of Week\": \"Day of Week\", \"Incident Date\": \"Date\", \"Incident Time\": \"Time\", \"Police District\": \"District\"}, inplace=True)\n",
    "\n",
    "# Swap the last two columns to be consistent with ordering.\n",
    "data2_subset = data2_subset[master_columns]\n",
    "\n",
    "data2_subset.head()"
   ]
  },
  {
   "source": [
    "### Merging Datasets\n",
    "* Looks like there is some overlapping data. Let's examine the two columns and see how we can combine them. "
   ],
   "cell_type": "markdown",
   "metadata": {}
  },
  {
   "source": [
    "# Obtain the columns from both lists\n",
    "columns1 = list(data1.columns)\n",
    "columns2 = list(data2.columns)\n",
    "\n",
    "pprint(\"Dataset 1's columns: {}\".format(columns1))\n",
    "pprint(\"Dataset 2's columns: {}\".format(columns2))"
   ],
   "cell_type": "code",
   "metadata": {},
   "execution_count": 9,
   "outputs": [
    {
     "output_type": "stream",
     "name": "stdout",
     "text": [
      "(\"Dataset 1's columns: ['PdId', 'IncidntNum', 'Incident Code', 'Category', \"\n \"'Descript', 'DayOfWeek', 'Date', 'Time', 'PdDistrict', 'Resolution', \"\n \"'Address', 'X', 'Y', 'location', 'SF Find Neighborhoods 2 2', 'Current \"\n \"Police Districts 2 2', 'Current Supervisor Districts 2 2', 'Analysis \"\n \"Neighborhoods 2 2', 'DELETE - Fire Prevention Districts 2 2', 'DELETE - \"\n \"Police Districts 2 2', 'DELETE - Supervisor Districts 2 2', 'DELETE - Zip \"\n \"Codes 2 2', 'DELETE - Neighborhoods 2 2', 'DELETE - 2017 Fix It Zones 2 2', \"\n \"'Civic Center Harm Reduction Project Boundary 2 2', 'Fix It Zones as of \"\n \"2017-11-06  2 2', 'DELETE - HSOC Zones 2 2', 'Fix It Zones as of 2018-02-07 \"\n \"2 2', 'CBD, BID and GBD Boundaries as of 2017 2 2', 'Areas of Vulnerability, \"\n \"2016 2 2', 'Central Market/Tenderloin Boundary 2 2', 'Central \"\n \"Market/Tenderloin Boundary Polygon - Updated 2 2', 'HSOC Zones as of \"\n \"2018-06-05 2 2', 'OWED Public Spaces 2 2', 'Neighborhoods 2']\")\n(\"Dataset 2's columns: ['Incident Datetime', 'Incident Date', 'Incident Time', \"\n \"'Incident Year', 'Incident Day of Week', 'Report Datetime', 'Row ID', \"\n \"'Incident ID', 'Incident Number', 'CAD Number', 'Report Type Code', 'Report \"\n \"Type Description', 'Filed Online', 'Incident Code', 'Incident Category', \"\n \"'Incident Subcategory', 'Incident Description', 'Resolution', \"\n \"'Intersection', 'CNN', 'Police District', 'Analysis Neighborhood', \"\n \"'Supervisor District', 'Latitude', 'Longitude', 'point', 'SF Find \"\n \"Neighborhoods', 'Current Police Districts', 'Current Supervisor Districts', \"\n \"'Analysis Neighborhoods', 'HSOC Zones as of 2018-06-05', 'OWED Public \"\n \"Spaces', 'Central Market/Tenderloin Boundary Polygon - Updated', 'Parks \"\n \"Alliance CPSI (27+TL sites)', 'ESNCAG - Boundary File', 'Areas of \"\n \"Vulnerability, 2016']\")\n"
     ]
    }
   ]
  },
  {
   "source": [
    "* The date and time information is consistent and can be merged.\n",
    "* The \"X\" and \"Y\" location of the first dataset can be merged with the \"Latitute\" and \"Longitude\" information.\n",
    "* The day-of-the-week information is in both datasets, so they can be merged easily.\n",
    "* We can at least merge (for both datasets) the incident category. Looks like dataset1 is missing the subcategory information, so we either extrapolate or leave it out of the final combined dataset.\n",
    "* It would also be easy to merge the Police District information, since they are present in both datasets.\n"
   ],
   "cell_type": "markdown",
   "metadata": {}
  },
  {
   "source": [
    "#### Merge the Category Information\n",
    "* Merge the category information, and reformat it into a consistent format."
   ],
   "cell_type": "markdown",
   "metadata": {}
  },
  {
   "cell_type": "code",
   "execution_count": 84,
   "metadata": {},
   "outputs": [
    {
     "output_type": "stream",
     "name": "stdout",
     "text": [
      "(\"Unique values for first dataset: ['WARRANTS', 'DRUG/NARCOTIC', 'VEHICLE \"\n \"THEFT', 'NON-CRIMINAL', 'LARCENY/THEFT', 'BURGLARY', 'OTHER OFFENSES', \"\n \"'VANDALISM', 'PROSTITUTION', 'SUSPICIOUS OCC', 'DRUNKENNESS', 'ARSON', \"\n \"'EMBEZZLEMENT', 'FRAUD', 'ASSAULT', 'MISSING PERSON', 'ROBBERY', \"\n \"'FORGERY/COUNTERFEITING', 'SECONDARY CODES', 'SEX OFFENSES, FORCIBLE', \"\n \"'WEAPON LAWS', 'DISORDERLY CONDUCT', 'STOLEN PROPERTY', 'LOITERING', \"\n \"'SUICIDE', 'TRESPASS', 'LIQUOR LAWS', 'BAD CHECKS', 'KIDNAPPING', 'RECOVERED \"\n \"VEHICLE', 'DRIVING UNDER THE INFLUENCE', 'FAMILY OFFENSES', 'BRIBERY', \"\n \"'GAMBLING', 'SEX OFFENSES, NON FORCIBLE', 'EXTORTION', 'PORNOGRAPHY/OBSCENE \"\n \"MAT', 'TREA']\")\n(\"Unique values for second dataset: ['Assault', 'Malicious Mischief', \"\n \"'Non-Criminal', 'Weapons Offense', 'Missing Person', 'Larceny Theft', \"\n \"'Other', 'Lost Property', 'Burglary', 'Offences Against The Family And \"\n \"Children', 'Miscellaneous Investigation', 'Recovered Vehicle', 'Other \"\n \"Miscellaneous', 'Disorderly Conduct', 'Suspicious Occ', 'Other Offenses', \"\n \"'Robbery', 'Motor Vehicle Theft', 'Family Offense', 'Arson', 'Case Closure', \"\n \"'Suicide', 'Fraud', 'Traffic Violation Arrest', 'Stolen Property', 'Drug \"\n \"Offense', 'Vehicle Misplaced', 'Fire Report', 'Warrant', 'Forgery And \"\n \"Counterfeiting', 'Courtesy Report', 'Sex Offense', 'Traffic Collision', \"\n \"'Vandalism', 'Weapons Carrying Etc', 'Embezzlement', 'Vehicle Impounded', \"\n \"'Rape', 'Human Trafficking (A), Commercial Sex Acts', 'Drug Violation', \"\n \"'Motor Vehicle Theft?', 'Homicide', 'Gambling', 'Prostitution', \"\n \"'Suspicious', 'Civil Sidewalks', 'Liquor Laws', 'Weapons Offence', 'Human \"\n \"Trafficking, Commercial Sex Acts', 'Human Trafficking (B), Involuntary \"\n \"Servitude']\")\n"
     ]
    }
   ],
   "source": [
    "# Determine the unique values for both datasets\n",
    "data1_unique_values = list(data1_subset[\"Category\"].unique())\n",
    "data2_unique_values = list(data2_subset[\"Category\"].unique())\n",
    "\n",
    "pprint(\"Unique values for first dataset: {}\".format(data1_unique_values))\n",
    "pprint(\"Unique values for second dataset: {}\".format(data2_unique_values))"
   ]
  },
  {
   "source": [
    "There are many inconsistencies.\n",
    "\n",
    "For the 2018-Present dataset, there are more categories that are not present in the previous one. They are also written in a case-sensitive format. \n",
    "\n",
    "Without outside expertise, the best merge strategy here is just to combine the categories, after capitalizing all entries."
   ],
   "cell_type": "markdown",
   "metadata": {}
  },
  {
   "cell_type": "code",
   "execution_count": 95,
   "metadata": {},
   "outputs": [
    {
     "output_type": "stream",
     "name": "stdout",
     "text": [
      "50\n70\n"
     ]
    }
   ],
   "source": [
    "# Take the union of the two lists after making them all capitalized.\n",
    "data2_category = data2_subset[\"Category\"]\n",
    "data2_category = data2_category.apply(lambda x: x.upper())\n",
    "\n",
    "data2_category_unique = list(data2_category.unique())\n",
    "master_category = list(set(data2_category_unique) | set(data1_unique_values))"
   ]
  },
  {
   "source": [
    "#### Merge the Date Information\n",
    "* Merge the date information, and reformat it into a consistent format. \n",
    "* The default format is (MM/DD/YYYY) for the date."
   ],
   "cell_type": "markdown",
   "metadata": {}
  },
  {
   "cell_type": "code",
   "execution_count": 11,
   "metadata": {},
   "outputs": [
    {
     "output_type": "stream",
     "name": "stdout",
     "text": [
      "0    07/01/2011\n1    10/18/2005\n2    01/29/2005\n3    06/02/2011\n4    02/01/2003\nName: Date, dtype: object\n0    2020/08/15\n1    2020/08/15\n2    2018/02/24\n3    2020/08/16\n4    2020/08/16\nName: Incident Date, dtype: object\n"
     ]
    }
   ],
   "source": [
    "# Get the dates for both datasets\n",
    "data1_date = data1[\"Date\"]\n",
    "data2_date = data2[\"Incident Date\"]\n",
    "\n",
    "print(data1_date.head())\n",
    "print(data2_date.head())\n"
   ]
  },
  {
   "cell_type": "code",
   "execution_count": 81,
   "metadata": {},
   "outputs": [
    {
     "output_type": "stream",
     "name": "stdout",
     "text": [
      "0    07/01/2011\n1    10/18/2005\n2    01/29/2005\n3    06/02/2011\n4    02/01/2003\nName: Date, dtype: object\n0    08/15/2020\n1    08/15/2020\n2    02/24/2018\n3    08/16/2020\n4    08/16/2020\nName: Incident Date, dtype: object\n"
     ]
    }
   ],
   "source": [
    "# For the dates in the second dataset, we are going to change the format.\n",
    "def to_mmddyyyy(date):\n",
    "    return datetime.strptime(date, \"%Y/%m/%d\").strftime(\"%m/%d/%Y\")\n",
    "\n",
    "data2_date_refactored = data2_date.apply(to_mmddyyyy)\n",
    "\n",
    "print(data1_date.head())\n",
    "print(data2_date_refactored.head())"
   ]
  },
  {
   "source": [
    "The dates are now in consistent formatting (MM/DD/YYYY) and can now be merged."
   ],
   "cell_type": "markdown",
   "metadata": {}
  },
  {
   "source": [
    "#### Merge the Time Information\n",
    "* Merge the time information, and reformat it into a consistent format.\n",
    "* The default format is (HH:MM) for the time, and follows the military time convention."
   ],
   "cell_type": "markdown",
   "metadata": {}
  },
  {
   "cell_type": "code",
   "execution_count": 23,
   "metadata": {},
   "outputs": [
    {
     "output_type": "stream",
     "name": "stdout",
     "text": [
      "0    08:00\n1    14:30\n2    13:45\n3    02:52\n4    08:00\nName: Time, dtype: object\n0    08:56\n1    09:40\n2    22:00\n3    03:13\n4    03:38\nName: Incident Time, dtype: object\n"
     ]
    }
   ],
   "source": [
    "data1_time = data1[\"Time\"]\n",
    "data2_time = data2[\"Incident Time\"]\n",
    "\n",
    "print(data1_time.head())\n",
    "print(data2_time.head())"
   ]
  },
  {
   "source": [
    "The time is already in consistent formatting and can thus be merged easily."
   ],
   "cell_type": "markdown",
   "metadata": {}
  },
  {
   "source": [
    "#### Merging the Day-Of-Week Information\n",
    "* Merge the day-of-week information, and reformat it into a consistent format.\n",
    "* The default format is the full name of the day (e.g. Monday, Tuesday, Wednesday, etc,) following the days of the week."
   ],
   "cell_type": "markdown",
   "metadata": {}
  },
  {
   "cell_type": "code",
   "execution_count": 24,
   "metadata": {},
   "outputs": [
    {
     "output_type": "stream",
     "name": "stdout",
     "text": [
      "0      Friday\n1     Tuesday\n2    Saturday\n3    Thursday\n4    Saturday\nName: DayOfWeek, dtype: object\n0    Saturday\n1    Saturday\n2    Saturday\n3      Sunday\n4      Sunday\nName: Incident Day of Week, dtype: object\n"
     ]
    }
   ],
   "source": [
    "data1_dow = data1[\"DayOfWeek\"]\n",
    "data2_dow = data2[\"Incident Day of Week\"]\n",
    "\n",
    "print(data1_dow.head())\n",
    "print(data2_dow.head())"
   ]
  },
  {
   "source": [
    "The day-of-week information is already in consistent formatting and can thus be merged easily."
   ],
   "cell_type": "markdown",
   "metadata": {}
  },
  {
   "source": [
    "#### Merging the District Information\n",
    "* Merge the district information, and reformat it into a consistent format.\n",
    "* The default format is the upper-case name of the district."
   ],
   "cell_type": "markdown",
   "metadata": {}
  },
  {
   "cell_type": "code",
   "execution_count": 110,
   "metadata": {},
   "outputs": [
    {
     "output_type": "stream",
     "name": "stdout",
     "text": [
      "['NORTHERN' 'TENDERLOIN' 'BAYVIEW' 'CENTRAL' 'RICHMOND' 'MISSION'\n 'SOUTHERN' 'TARAVAL' 'PARK' 'INGLESIDE']\n['Bayview' 'Mission' 'Southern' 'Taraval' 'Northern' 'Central' 'Ingleside'\n 'Park' 'Richmond' 'Out of SF' 'Tenderloin']\n"
     ]
    }
   ],
   "source": [
    "data1_district = data1_subset[\"District\"]\n",
    "data2_district = data2_subset[\"District\"]\n",
    "\n",
    "print(data1_district.unique())\n",
    "print(data2_district.unique())"
   ]
  },
  {
   "source": [
    "To merge the two sources, we are going to have to capitalize all entries in the District column for the second dataset, and then we are going to have to remove \"Out of SF\" entries. \n",
    "\n",
    "We can either remove this information before we do the merge, or we can remove the information during the merge."
   ],
   "cell_type": "markdown",
   "metadata": {}
  },
  {
   "source": [
    "#### Master Merge\n",
    "* Now that we know how to make the information consistent, we are going to do an actual merge."
   ],
   "cell_type": "markdown",
   "metadata": {}
  },
  {
   "cell_type": "code",
   "execution_count": null,
   "metadata": {},
   "outputs": [],
   "source": [
    "# First, create the subsets."
   ]
  },
  {
   "cell_type": "code",
   "execution_count": 112,
   "metadata": {},
   "outputs": [
    {
     "output_type": "execute_result",
     "data": {
      "text/plain": [
       "             Category Day of Week        Date   Time  District   Longitude  \\\n",
       "3             ASSAULT      Sunday  2020/08/16  03:13   BAYVIEW -122.397729   \n",
       "4  MALICIOUS MISCHIEF      Sunday  2020/08/16  03:38   MISSION -122.422044   \n",
       "5        NON-CRIMINAL      Sunday  2020/08/16  13:40  SOUTHERN -122.403712   \n",
       "6     WEAPONS OFFENSE      Sunday  2020/08/16  16:18   TARAVAL -122.507416   \n",
       "7      MISSING PERSON   Wednesday  2020/08/12  22:00  NORTHERN -122.432140   \n",
       "\n",
       "    Latitude  \n",
       "3  37.754827  \n",
       "4  37.766540  \n",
       "5  37.784044  \n",
       "6  37.751003  \n",
       "7  37.780496  "
      ],
      "text/html": "<div>\n<style scoped>\n    .dataframe tbody tr th:only-of-type {\n        vertical-align: middle;\n    }\n\n    .dataframe tbody tr th {\n        vertical-align: top;\n    }\n\n    .dataframe thead th {\n        text-align: right;\n    }\n</style>\n<table border=\"1\" class=\"dataframe\">\n  <thead>\n    <tr style=\"text-align: right;\">\n      <th></th>\n      <th>Category</th>\n      <th>Day of Week</th>\n      <th>Date</th>\n      <th>Time</th>\n      <th>District</th>\n      <th>Longitude</th>\n      <th>Latitude</th>\n    </tr>\n  </thead>\n  <tbody>\n    <tr>\n      <th>3</th>\n      <td>ASSAULT</td>\n      <td>Sunday</td>\n      <td>2020/08/16</td>\n      <td>03:13</td>\n      <td>BAYVIEW</td>\n      <td>-122.397729</td>\n      <td>37.754827</td>\n    </tr>\n    <tr>\n      <th>4</th>\n      <td>MALICIOUS MISCHIEF</td>\n      <td>Sunday</td>\n      <td>2020/08/16</td>\n      <td>03:38</td>\n      <td>MISSION</td>\n      <td>-122.422044</td>\n      <td>37.766540</td>\n    </tr>\n    <tr>\n      <th>5</th>\n      <td>NON-CRIMINAL</td>\n      <td>Sunday</td>\n      <td>2020/08/16</td>\n      <td>13:40</td>\n      <td>SOUTHERN</td>\n      <td>-122.403712</td>\n      <td>37.784044</td>\n    </tr>\n    <tr>\n      <th>6</th>\n      <td>WEAPONS OFFENSE</td>\n      <td>Sunday</td>\n      <td>2020/08/16</td>\n      <td>16:18</td>\n      <td>TARAVAL</td>\n      <td>-122.507416</td>\n      <td>37.751003</td>\n    </tr>\n    <tr>\n      <th>7</th>\n      <td>MISSING PERSON</td>\n      <td>Wednesday</td>\n      <td>2020/08/12</td>\n      <td>22:00</td>\n      <td>NORTHERN</td>\n      <td>-122.432140</td>\n      <td>37.780496</td>\n    </tr>\n  </tbody>\n</table>\n</div>"
     },
     "metadata": {},
     "execution_count": 112
    }
   ],
   "source": [
    "# First, we deal with the category and district\n",
    "data2_subset[\"Category\"] = data2_subset[\"Category\"].apply(lambda x: x.upper())\n",
    "data2_subset[\"District\"] = data2_subset[\"District\"].apply(lambda x: x.upper())\n",
    "\n",
    "data2_subset.head()"
   ]
  }
 ]
}