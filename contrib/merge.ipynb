{
 "metadata": {
  "language_info": {
   "codemirror_mode": {
    "name": "ipython",
    "version": 3
   },
   "file_extension": ".py",
   "mimetype": "text/x-python",
   "name": "python",
   "nbconvert_exporter": "python",
   "pygments_lexer": "ipython3",
   "version": "3.7.9-final"
  },
  "orig_nbformat": 2,
  "kernelspec": {
   "name": "sfcrime",
   "display_name": "sfcrime"
  }
 },
 "nbformat": 4,
 "nbformat_minor": 2,
 "cells": [
  {
   "source": [
    "This notebook merges the data from the two datasets, and then stores it in a .csv file."
   ],
   "cell_type": "markdown",
   "metadata": {}
  },
  {
   "cell_type": "code",
   "execution_count": 1,
   "metadata": {},
   "outputs": [],
   "source": [
    "import os\n",
    "import time\n",
    "import glob\n",
    "from datetime import datetime\n",
    "\n",
    "import numpy as np\n",
    "import pandas as pd\n",
    "\n",
    "import seaborn as sns\n",
    "from pprint import pprint\n",
    "import matplotlib.pyplot as plt"
   ]
  },
  {
   "cell_type": "code",
   "execution_count": 2,
   "metadata": {},
   "outputs": [],
   "source": [
    "# Load the two datasets\n",
    "dataset1 = pd.read_csv(\"../data/SFPD_Crime_Data_2008_2018.csv\")\n",
    "dataset2 = pd.read_csv(\"../data/SFPD_Crime_Data_2018_Present.csv\")\n",
    "\n",
    "# Define the subsets of the data that we want to keep.\n",
    "subset1 = [\"Category\", \"DayOfWeek\", \"Date\", \"Time\", \"PdDistrict\", \"X\", \"Y\"]\n",
    "subset2 = [\n",
    "    \"Incident Category\", \n",
    "    \"Incident Day of Week\",\n",
    "    \"Incident Date\", \n",
    "    \"Incident Time\",\n",
    "    \"Police District\", \n",
    "    \"Latitude\",\n",
    "    \"Longitude\",\n",
    "]\n",
    "master_columns = [\"Category\", \"Day of Week\", \"Date\", \"Time\", \"District\", \"Longitude\", \"Latitude\"]\n",
    "\n",
    "# Define the dictionaries that are used for renaming the categories.\n",
    "subset1_rename = {\"DayOfWeek\": \"Day of Week\", \"PdDistrict\": \"District\", \"X\": \"Longitude\", \"Y\": \"Latitude\"}\n",
    "subset2_rename = {\"Incident Category\": \"Category\", \"Incident Day of Week\": \"Day of Week\", \"Incident Date\": \"Date\", \"Incident Time\": \"Time\", \"Police District\": \"District\"}"
   ]
  },
  {
   "source": [
    "#### Modifying Dataset 1"
   ],
   "cell_type": "markdown",
   "metadata": {}
  },
  {
   "cell_type": "code",
   "execution_count": 3,
   "metadata": {},
   "outputs": [
    {
     "output_type": "execute_result",
     "data": {
      "text/plain": [
       "        Category Day of Week        Date   Time    District   Longitude  \\\n",
       "0       WARRANTS      FRIDAY  07/01/2011  08:00    NORTHERN -122.439758   \n",
       "1  DRUG/NARCOTIC     TUESDAY  10/18/2005  14:30  TENDERLOIN -122.414318   \n",
       "2  VEHICLE THEFT    SATURDAY  01/29/2005  13:45     BAYVIEW -122.388799   \n",
       "3   NON-CRIMINAL    THURSDAY  06/02/2011  02:52     CENTRAL -122.414354   \n",
       "4  VEHICLE THEFT    SATURDAY  02/01/2003  08:00     BAYVIEW -122.401097   \n",
       "\n",
       "    Latitude  \n",
       "0  37.802151  \n",
       "1  37.779944  \n",
       "2  37.737576  \n",
       "3  37.803109  \n",
       "4  37.724556  "
      ],
      "text/html": "<div>\n<style scoped>\n    .dataframe tbody tr th:only-of-type {\n        vertical-align: middle;\n    }\n\n    .dataframe tbody tr th {\n        vertical-align: top;\n    }\n\n    .dataframe thead th {\n        text-align: right;\n    }\n</style>\n<table border=\"1\" class=\"dataframe\">\n  <thead>\n    <tr style=\"text-align: right;\">\n      <th></th>\n      <th>Category</th>\n      <th>Day of Week</th>\n      <th>Date</th>\n      <th>Time</th>\n      <th>District</th>\n      <th>Longitude</th>\n      <th>Latitude</th>\n    </tr>\n  </thead>\n  <tbody>\n    <tr>\n      <th>0</th>\n      <td>WARRANTS</td>\n      <td>FRIDAY</td>\n      <td>07/01/2011</td>\n      <td>08:00</td>\n      <td>NORTHERN</td>\n      <td>-122.439758</td>\n      <td>37.802151</td>\n    </tr>\n    <tr>\n      <th>1</th>\n      <td>DRUG/NARCOTIC</td>\n      <td>TUESDAY</td>\n      <td>10/18/2005</td>\n      <td>14:30</td>\n      <td>TENDERLOIN</td>\n      <td>-122.414318</td>\n      <td>37.779944</td>\n    </tr>\n    <tr>\n      <th>2</th>\n      <td>VEHICLE THEFT</td>\n      <td>SATURDAY</td>\n      <td>01/29/2005</td>\n      <td>13:45</td>\n      <td>BAYVIEW</td>\n      <td>-122.388799</td>\n      <td>37.737576</td>\n    </tr>\n    <tr>\n      <th>3</th>\n      <td>NON-CRIMINAL</td>\n      <td>THURSDAY</td>\n      <td>06/02/2011</td>\n      <td>02:52</td>\n      <td>CENTRAL</td>\n      <td>-122.414354</td>\n      <td>37.803109</td>\n    </tr>\n    <tr>\n      <th>4</th>\n      <td>VEHICLE THEFT</td>\n      <td>SATURDAY</td>\n      <td>02/01/2003</td>\n      <td>08:00</td>\n      <td>BAYVIEW</td>\n      <td>-122.401097</td>\n      <td>37.724556</td>\n    </tr>\n  </tbody>\n</table>\n</div>"
     },
     "metadata": {},
     "execution_count": 3
    }
   ],
   "source": [
    "# Drop the NULL/invalid values.\n",
    "dataset1.dropna(subset=subset1, inplace=True)\n",
    "\n",
    "# Select the subset of columns.\n",
    "dataset1_subset = dataset1[subset1]\n",
    "\n",
    "# Rename the columns.\n",
    "dataset1_subset.rename(columns=subset1_rename, inplace=True)\n",
    "\n",
    "# Remove \"Out of SF\" from the District column if it exists.\n",
    "dataset1_subset[\"District\"] = dataset1_subset[\"District\"][dataset1_subset[\"District\"] != \"Out of SF\"]\n",
    "\n",
    "# Capitalize the \"Day Of Week\" column.\n",
    "dataset1_subset[\"Day of Week\"] = dataset1_subset[\"Day of Week\"].apply(lambda x : x.upper())\n",
    "\n",
    "dataset1_subset.head()"
   ]
  },
  {
   "source": [
    "#### Modifying Dataset 2"
   ],
   "cell_type": "markdown",
   "metadata": {}
  },
  {
   "cell_type": "code",
   "execution_count": 5,
   "metadata": {},
   "outputs": [
    {
     "output_type": "execute_result",
     "data": {
      "text/plain": [
       "             Category Day of Week        Date   Time  District   Longitude  \\\n",
       "3             ASSAULT      SUNDAY  08/16/2020  03:13   BAYVIEW -122.397729   \n",
       "4  MALICIOUS MISCHIEF      SUNDAY  08/16/2020  03:38   MISSION -122.422044   \n",
       "5        NON-CRIMINAL      SUNDAY  08/16/2020  13:40  SOUTHERN -122.403712   \n",
       "6     WEAPONS OFFENSE      SUNDAY  08/16/2020  16:18   TARAVAL -122.507416   \n",
       "7      MISSING PERSON   WEDNESDAY  08/12/2020  22:00  NORTHERN -122.432140   \n",
       "\n",
       "    Latitude  \n",
       "3  37.754827  \n",
       "4  37.766540  \n",
       "5  37.784044  \n",
       "6  37.751003  \n",
       "7  37.780496  "
      ],
      "text/html": "<div>\n<style scoped>\n    .dataframe tbody tr th:only-of-type {\n        vertical-align: middle;\n    }\n\n    .dataframe tbody tr th {\n        vertical-align: top;\n    }\n\n    .dataframe thead th {\n        text-align: right;\n    }\n</style>\n<table border=\"1\" class=\"dataframe\">\n  <thead>\n    <tr style=\"text-align: right;\">\n      <th></th>\n      <th>Category</th>\n      <th>Day of Week</th>\n      <th>Date</th>\n      <th>Time</th>\n      <th>District</th>\n      <th>Longitude</th>\n      <th>Latitude</th>\n    </tr>\n  </thead>\n  <tbody>\n    <tr>\n      <th>3</th>\n      <td>ASSAULT</td>\n      <td>SUNDAY</td>\n      <td>08/16/2020</td>\n      <td>03:13</td>\n      <td>BAYVIEW</td>\n      <td>-122.397729</td>\n      <td>37.754827</td>\n    </tr>\n    <tr>\n      <th>4</th>\n      <td>MALICIOUS MISCHIEF</td>\n      <td>SUNDAY</td>\n      <td>08/16/2020</td>\n      <td>03:38</td>\n      <td>MISSION</td>\n      <td>-122.422044</td>\n      <td>37.766540</td>\n    </tr>\n    <tr>\n      <th>5</th>\n      <td>NON-CRIMINAL</td>\n      <td>SUNDAY</td>\n      <td>08/16/2020</td>\n      <td>13:40</td>\n      <td>SOUTHERN</td>\n      <td>-122.403712</td>\n      <td>37.784044</td>\n    </tr>\n    <tr>\n      <th>6</th>\n      <td>WEAPONS OFFENSE</td>\n      <td>SUNDAY</td>\n      <td>08/16/2020</td>\n      <td>16:18</td>\n      <td>TARAVAL</td>\n      <td>-122.507416</td>\n      <td>37.751003</td>\n    </tr>\n    <tr>\n      <th>7</th>\n      <td>MISSING PERSON</td>\n      <td>WEDNESDAY</td>\n      <td>08/12/2020</td>\n      <td>22:00</td>\n      <td>NORTHERN</td>\n      <td>-122.432140</td>\n      <td>37.780496</td>\n    </tr>\n  </tbody>\n</table>\n</div>"
     },
     "metadata": {},
     "execution_count": 5
    }
   ],
   "source": [
    "# Drop the NULL/invalid values.\n",
    "dataset2.dropna(subset=subset2, inplace=True)\n",
    "\n",
    "# Select the subset of columns.\n",
    "dataset2_subset = dataset2[subset2]\n",
    "\n",
    "# Rename the columns\n",
    "dataset2_subset.rename(columns=subset2_rename, inplace=True)\n",
    "\n",
    "# Change the format of the dates.\n",
    "dataset2_subset[\"Date\"] = dataset2_subset[\"Date\"].apply(lambda x : datetime.strptime(x, \"%Y/%m/%d\").strftime(\"%m/%d/%Y\"))\n",
    "\n",
    "# Capitalize the \"Day of Week\" column.\n",
    "dataset2_subset[\"Day of Week\"] = dataset2_subset[\"Day of Week\"].apply(lambda x : x.upper())\n",
    "\n",
    "# Capitalize the \"Category\" column.\n",
    "dataset2_subset[\"Category\"] = dataset2_subset[\"Category\"].apply(lambda x : x.upper())\n",
    "\n",
    "# Capitalize the \"District\" column.\n",
    "dataset2_subset[\"District\"] = dataset2_subset[\"District\"].apply(lambda x : x.upper())\n",
    "\n",
    "# Switch the Longitude and Latitude columns.\n",
    "dataset2_subset = dataset2_subset[master_columns]\n",
    "\n",
    "dataset2_subset.head()"
   ]
  },
  {
   "source": [
    "### Merge the Datasets Together"
   ],
   "cell_type": "markdown",
   "metadata": {}
  },
  {
   "cell_type": "code",
   "execution_count": 10,
   "metadata": {},
   "outputs": [],
   "source": [
    "datasets = [dataset1_subset, dataset2_subset]\n",
    "dataset = pd.concat(datasets, ignore_index=True)"
   ]
  },
  {
   "cell_type": "code",
   "execution_count": 11,
   "metadata": {},
   "outputs": [
    {
     "output_type": "execute_result",
     "data": {
      "text/plain": [
       "                  Category Day of Week        Date   Time  District  \\\n",
       "2534373      LARCENY THEFT    SATURDAY  08/15/2020  20:44   CENTRAL   \n",
       "2534374       NON-CRIMINAL    SATURDAY  08/15/2020  08:00  NORTHERN   \n",
       "2534375           BURGLARY    SATURDAY  08/15/2020  15:47   CENTRAL   \n",
       "2534376  RECOVERED VEHICLE    SATURDAY  08/15/2020  21:52   TARAVAL   \n",
       "2534377           BURGLARY    SATURDAY  08/15/2020  23:50   CENTRAL   \n",
       "\n",
       "          Longitude   Latitude  \n",
       "2534373 -122.411886  37.788808  \n",
       "2534374 -122.436204  37.792263  \n",
       "2534375 -122.408402  37.788293  \n",
       "2534376 -122.474494  37.741234  \n",
       "2534377 -122.408402  37.788293  "
      ],
      "text/html": "<div>\n<style scoped>\n    .dataframe tbody tr th:only-of-type {\n        vertical-align: middle;\n    }\n\n    .dataframe tbody tr th {\n        vertical-align: top;\n    }\n\n    .dataframe thead th {\n        text-align: right;\n    }\n</style>\n<table border=\"1\" class=\"dataframe\">\n  <thead>\n    <tr style=\"text-align: right;\">\n      <th></th>\n      <th>Category</th>\n      <th>Day of Week</th>\n      <th>Date</th>\n      <th>Time</th>\n      <th>District</th>\n      <th>Longitude</th>\n      <th>Latitude</th>\n    </tr>\n  </thead>\n  <tbody>\n    <tr>\n      <th>2534373</th>\n      <td>LARCENY THEFT</td>\n      <td>SATURDAY</td>\n      <td>08/15/2020</td>\n      <td>20:44</td>\n      <td>CENTRAL</td>\n      <td>-122.411886</td>\n      <td>37.788808</td>\n    </tr>\n    <tr>\n      <th>2534374</th>\n      <td>NON-CRIMINAL</td>\n      <td>SATURDAY</td>\n      <td>08/15/2020</td>\n      <td>08:00</td>\n      <td>NORTHERN</td>\n      <td>-122.436204</td>\n      <td>37.792263</td>\n    </tr>\n    <tr>\n      <th>2534375</th>\n      <td>BURGLARY</td>\n      <td>SATURDAY</td>\n      <td>08/15/2020</td>\n      <td>15:47</td>\n      <td>CENTRAL</td>\n      <td>-122.408402</td>\n      <td>37.788293</td>\n    </tr>\n    <tr>\n      <th>2534376</th>\n      <td>RECOVERED VEHICLE</td>\n      <td>SATURDAY</td>\n      <td>08/15/2020</td>\n      <td>21:52</td>\n      <td>TARAVAL</td>\n      <td>-122.474494</td>\n      <td>37.741234</td>\n    </tr>\n    <tr>\n      <th>2534377</th>\n      <td>BURGLARY</td>\n      <td>SATURDAY</td>\n      <td>08/15/2020</td>\n      <td>23:50</td>\n      <td>CENTRAL</td>\n      <td>-122.408402</td>\n      <td>37.788293</td>\n    </tr>\n  </tbody>\n</table>\n</div>"
     },
     "metadata": {},
     "execution_count": 11
    }
   ],
   "source": [
    "dataset.tail()"
   ]
  },
  {
   "source": [
    "The dataset has been successfully concatenated. Now we can save it as a .csv file for further loading."
   ],
   "cell_type": "markdown",
   "metadata": {}
  },
  {
   "cell_type": "code",
   "execution_count": 13,
   "metadata": {},
   "outputs": [],
   "source": [
    "dataset.to_csv(\"../data/SFPD_Crime_Data_Concatenated.csv\")"
   ]
  }
 ]
}