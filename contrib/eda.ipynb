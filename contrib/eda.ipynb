{
 "metadata": {
  "language_info": {
   "codemirror_mode": {
    "name": "ipython",
    "version": 3
   },
   "file_extension": ".py",
   "mimetype": "text/x-python",
   "name": "python",
   "nbconvert_exporter": "python",
   "pygments_lexer": "ipython3",
   "version": "3.7.9-final"
  },
  "orig_nbformat": 2,
  "kernelspec": {
   "name": "sfcrime",
   "display_name": "sfcrime"
  }
 },
 "nbformat": 4,
 "nbformat_minor": 2,
 "cells": [
  {
   "cell_type": "code",
   "execution_count": 23,
   "metadata": {},
   "outputs": [],
   "source": [
    "import os\n",
    "import time\n",
    "from tqdm import tqdm\n",
    "\n",
    "import shapely\n",
    "import numpy as np\n",
    "import pandas as pd\n",
    "import geopandas as gpd\n",
    "\n",
    "import seaborn as sns\n",
    "import matplotlib.pyplot as plt"
   ]
  },
  {
   "cell_type": "code",
   "execution_count": 24,
   "metadata": {},
   "outputs": [
    {
     "output_type": "stream",
     "name": "stdout",
     "text": [
      "        Date   Time Day of Week       Category    District   Latitude  \\\n0 2011-07-01  08:00      FRIDAY       WARRANTS    NORTHERN  37.802151   \n1 2005-10-18  14:30     TUESDAY  DRUG/NARCOTIC  TENDERLOIN  37.779944   \n2 2005-01-29  13:45    SATURDAY  VEHICLE THEFT     BAYVIEW  37.737576   \n3 2011-06-02  02:52    THURSDAY   NON-CRIMINAL     CENTRAL  37.803109   \n4 2003-02-01  08:00    SATURDAY  VEHICLE THEFT     BAYVIEW  37.724556   \n\n    Longitude  \n0 -122.439758  \n1 -122.414318  \n2 -122.388799  \n3 -122.414354  \n4 -122.401097  \nThe amount of training data is 2534378.\n"
     ]
    }
   ],
   "source": [
    "data_path = \"/Users/administrator/Documents/Projects/sf-crime-exploration/data/SFPD_Crime_Data_Full.csv\"\n",
    "train_data = pd.read_csv(data_path, parse_dates=[\"Date\"])\n",
    "\n",
    "print(train_data.head())\n",
    "print(\"The amount of training data is {}.\".format(len(train_data)))"
   ]
  },
  {
   "source": [
    "The DataFrame contains the following columns:\n",
    "\n",
    "* Date: day the incident occured, in yyyy-mm-dd format.\n",
    "* Time: time the incident occured, in military time.\n",
    "* Day of Week: day of the week the incident occured.\n",
    "* Category: the classification of the incident.\n",
    "* District: the police district in which the incident occured.\n",
    "* Latitude: the latitude of the location where the incident occured.\n",
    "* Longitude: the longitude of the location where the incident occured."
   ],
   "cell_type": "markdown",
   "metadata": {}
  },
  {
   "cell_type": "code",
   "execution_count": 25,
   "metadata": {},
   "outputs": [
    {
     "output_type": "stream",
     "name": "stdout",
     "text": [
      "Entire operation took 1.7886619567871094 seconds.\nThere are 179089 duplicate entries.\n"
     ]
    }
   ],
   "source": [
    "start_time = time.time()\n",
    "num_duplicates = train_data.duplicated().sum()\n",
    "end_time = time.time()\n",
    "\n",
    "print(\"Entire operation took {} seconds.\".format(end_time - start_time))\n",
    "print(\"There are {} duplicate entries.\".format(num_duplicates))"
   ]
  },
  {
   "source": [
    "There are 179089 duplicate entries that should be removed."
   ],
   "cell_type": "markdown",
   "metadata": {}
  },
  {
   "cell_type": "code",
   "execution_count": 26,
   "metadata": {},
   "outputs": [],
   "source": [
    "train_data.drop_duplicates(inplace=True)"
   ]
  },
  {
   "source": [
    "Let's analyze the coordinates of the incidents to see if there are any irregularities. Since there are a lot of points to be examined, we will actually just check that the coordinates are contained within the bounding boxes of San Francisco county.\n",
    "\n",
    "The bounding box is given by:\n",
    "* BBox East Longitude: -122.28178\n",
    "* BBox West Longitude: -123.173825\n",
    "* BBox North Latitude: 37.929824\n",
    "* BBox South Latitude: 37.63983"
   ],
   "cell_type": "markdown",
   "metadata": {}
  },
  {
   "cell_type": "code",
   "execution_count": 27,
   "metadata": {},
   "outputs": [],
   "source": [
    "def validate_coordinates(coords):\n",
    "    \"\"\"Determines if the location represented by the coordinates is contained in the San Francisco county bounding box.\n",
    "\n",
    "    Parameters\n",
    "    ----------\n",
    "    coords : tuple (int, int)\n",
    "        The coordinates in (longitude, latitude) representing the location to verify.\n",
    "    \n",
    "    Returns\n",
    "    -------\n",
    "    valid : bool\n",
    "        Returns ``True`` if the location is contained in the San Francisco county bounding box. Returns ``False`` otherwise.\n",
    "\n",
    "    \"\"\"\n",
    "    x = coords[0]\n",
    "    y = coords[1]\n",
    "    if (x >= -123.173825 and x <= -122.28178) and (y >= 37.63983 and y <= 37.929824):\n",
    "        return True\n",
    "    else:\n",
    "        return False"
   ]
  },
  {
   "cell_type": "code",
   "execution_count": 35,
   "metadata": {
    "tags": []
   },
   "outputs": [
    {
     "output_type": "stream",
     "name": "stderr",
     "text": [
      "100%|██████████| 2355289/2355289 [00:03<00:00, 687690.66it/s]\n",
      "There are 127 invalid entries.\n",
      "\n"
     ]
    }
   ],
   "source": [
    "invalid_coord_indices = list()\n",
    "\n",
    "train_coords = train_data[[\"Longitude\", \"Latitude\"]]\n",
    "for idx, row in tqdm(enumerate(train_coords.itertuples()), total=len(train_coords)):\n",
    "    row = row[1:3] # The first entry contains the Pandas index, which we don't need.\n",
    "    valid = validate_coordinates(row)\n",
    "    if valid == False:\n",
    "        invalid_coord_indices.append(idx)\n",
    "\n",
    "print(\"\\nThere are {} invalid entries.\".format(len(invalid_coord_indices)))"
   ]
  },
  {
   "source": [
    "There are 127 invalid entries, let's explore them."
   ],
   "cell_type": "markdown",
   "metadata": {}
  },
  {
   "cell_type": "code",
   "execution_count": 40,
   "metadata": {},
   "outputs": [
    {
     "output_type": "stream",
     "name": "stdout",
     "text": [
      "         Longitude  Latitude\n2137        -120.5      90.0\n8478        -120.5      90.0\n12880       -120.5      90.0\n20953       -120.5      90.0\n28594       -120.5      90.0\n...            ...       ...\n2025503     -120.5      90.0\n2034164     -120.5      90.0\n2064119     -120.5      90.0\n2079990     -120.5      90.0\n2086098     -120.5      90.0\n\n[127 rows x 2 columns]\n"
     ]
    }
   ],
   "source": [
    "print(train_data[[\"Longitude\", \"Latitude\"]].iloc[invalid_coord_indices])"
   ]
  },
  {
   "source": [
    "Looks like for all of these entries, the Longitude is set to -120.5 and the Latitude is set to 90.0.\n",
    "\n",
    "We can either throw these data points away or we can consolidate them as follows. Find the average coordinates of the district where the crime occured. We'll consolidate them."
   ],
   "cell_type": "markdown",
   "metadata": {}
  },
  {
   "cell_type": "code",
   "execution_count": null,
   "metadata": {},
   "outputs": [],
   "source": []
  },
  {
   "cell_type": "code",
   "execution_count": null,
   "metadata": {},
   "outputs": [],
   "source": []
  }
 ]
}