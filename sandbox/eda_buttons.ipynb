{
 "metadata": {
  "language_info": {
   "codemirror_mode": {
    "name": "ipython",
    "version": 3
   },
   "file_extension": ".py",
   "mimetype": "text/x-python",
   "name": "python",
   "nbconvert_exporter": "python",
   "pygments_lexer": "ipython3",
   "version": "3.7.9-final"
  },
  "orig_nbformat": 2,
  "kernelspec": {
   "name": "sfcrime",
   "display_name": "sfcrime",
   "language": "python"
  }
 },
 "nbformat": 4,
 "nbformat_minor": 2,
 "cells": [
  {
   "cell_type": "code",
   "execution_count": 2,
   "metadata": {},
   "outputs": [],
   "source": [
    "import os\n",
    "import time\n",
    "from tqdm import tqdm\n",
    "\n",
    "import gmaps\n",
    "import shapely\n",
    "import numpy as np\n",
    "import pandas as pd\n",
    "import geopandas as gpd\n",
    "\n",
    "import seaborn as sns\n",
    "import ipywidgets as widgets\n",
    "import matplotlib.pyplot as plt\n",
    "from IPython.display import display\n",
    "import matplotlib.widgets as pltwidgets"
   ]
  },
  {
   "cell_type": "code",
   "execution_count": 3,
   "metadata": {},
   "outputs": [],
   "source": [
    "key_path = \"/Users/administrator/Documents/Projects/abq_crime/api_key.txt\"\n",
    "with open(key_path) as f:\n",
    "    api_key = f.readline()\n",
    "    f.close()\n",
    "gmaps.configure(api_key=api_key)"
   ]
  },
  {
   "cell_type": "code",
   "execution_count": 4,
   "metadata": {},
   "outputs": [],
   "source": [
    "sns.set_theme()\n",
    "sns.set_style(\"white\")\n",
    "sns.set_palette(\"rocket\")"
   ]
  },
  {
   "cell_type": "code",
   "execution_count": 5,
   "metadata": {},
   "outputs": [],
   "source": [
    "data_path = \"/Users/administrator/Documents/Projects/sf-crime-exploration/data/SFPD_Crime_Data_Full.csv\"\n",
    "dataframe = pd.read_csv(data_path)"
   ]
  },
  {
   "cell_type": "code",
   "execution_count": 6,
   "metadata": {},
   "outputs": [],
   "source": [
    "centroids_path = \"/Users/administrator/Documents/Projects/sf-crime-exploration/data/SFPD_District_Centroids.csv\"\n",
    "geoframe = pd.read_csv(centroids_path)\n",
    "geoframe.geometry = geoframe.geometry.apply(shapely.wkt.loads)\n",
    "geoframe.centroid = geoframe.centroid.apply(shapely.wkt.loads)\n",
    "geoframe = gpd.GeoDataFrame(geoframe, geometry=\"geometry\")\n",
    "polyframe = geoframe.geometry"
   ]
  },
  {
   "cell_type": "code",
   "execution_count": 7,
   "metadata": {},
   "outputs": [
    {
     "output_type": "display_data",
     "data": {
      "text/plain": "Dropdown(description='District', options=('BAYVIEW', 'MISSION', 'NORTHERN', 'TENDERLOIN', 'CENTRAL', 'PARK', '…",
      "application/vnd.jupyter.widget-view+json": {
       "version_major": 2,
       "version_minor": 0,
       "model_id": "b8b38a07a0b5497ca861c9c1d5f9c60a"
      }
     },
     "metadata": {}
    }
   ],
   "source": [
    "dbox = widgets.Dropdown(options=geoframe.district, description=\"District\", disabled=False)\n",
    "display(dbox)"
   ]
  },
  {
   "cell_type": "code",
   "execution_count": 8,
   "metadata": {},
   "outputs": [
    {
     "output_type": "display_data",
     "data": {
      "text/plain": "Dropdown(description='Category', options=('WARRANT', 'DRUG OFFENSE', 'VEHICLE MISPLACED', 'NON-CRIMINAL', 'LAR…",
      "application/vnd.jupyter.widget-view+json": {
       "version_major": 2,
       "version_minor": 0,
       "model_id": "a798e7409d064e20b9dc7f10537359ca"
      }
     },
     "metadata": {}
    }
   ],
   "source": [
    "cbox = widgets.Dropdown(options=dataframe[\"Category\"].unique(), description=\"Category\", disabled=False)\n",
    "display(cbox)"
   ]
  },
  {
   "source": [
    "#### Sandbox Cells"
   ],
   "cell_type": "markdown",
   "metadata": {}
  },
  {
   "cell_type": "code",
   "execution_count": 9,
   "metadata": {},
   "outputs": [
    {
     "output_type": "stream",
     "name": "stdout",
     "text": [
      "     district                                           geometry  \\\n0     BAYVIEW  POLYGON ((37.765 -122.381, 37.762 -122.381, 37...   \n1     MISSION  POLYGON ((37.769 -122.410, 37.769 -122.409, 37...   \n2    NORTHERN  POLYGON ((37.808 -122.434, 37.808 -122.434, 37...   \n3  TENDERLOIN  POLYGON ((37.786 -122.402, 37.774 -122.417, 37...   \n4     CENTRAL  POLYGON ((37.807 -122.426, 37.807 -122.426, 37...   \n\n                                       centroid  \n0  POINT (37.73432830504337 -122.3896413590277)  \n1  POINT (37.75756983991986 -122.4226455774392)  \n2  POINT (37.78998465312932 -122.4317576421874)  \n3   POINT (37.78236656943267 -122.412761876948)  \n4  POINT (37.79791152508096 -122.4091616666903)  \n"
     ]
    }
   ],
   "source": [
    "print(geoframe.head())"
   ]
  },
  {
   "cell_type": "code",
   "execution_count": 10,
   "metadata": {},
   "outputs": [
    {
     "output_type": "stream",
     "name": "stdout",
     "text": [
      "0    POLYGON ((37.765 -122.381, 37.762 -122.381, 37...\n1    POLYGON ((37.769 -122.410, 37.769 -122.409, 37...\n2    POLYGON ((37.808 -122.434, 37.808 -122.434, 37...\n3    POLYGON ((37.786 -122.402, 37.774 -122.417, 37...\n4    POLYGON ((37.807 -122.426, 37.807 -122.426, 37...\nName: geometry, dtype: geometry\n"
     ]
    }
   ],
   "source": [
    "print(polyframe.head())"
   ]
  }
 ]
}