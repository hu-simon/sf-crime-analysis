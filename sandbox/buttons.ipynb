{
 "metadata": {
  "language_info": {
   "codemirror_mode": {
    "name": "ipython",
    "version": 3
   },
   "file_extension": ".py",
   "mimetype": "text/x-python",
   "name": "python",
   "nbconvert_exporter": "python",
   "pygments_lexer": "ipython3",
   "version": "3.7.9-final"
  },
  "orig_nbformat": 2,
  "kernelspec": {
   "name": "sfcrime",
   "display_name": "sfcrime",
   "language": "python"
  }
 },
 "nbformat": 4,
 "nbformat_minor": 2,
 "cells": [
  {
   "cell_type": "code",
   "execution_count": 1,
   "metadata": {},
   "outputs": [],
   "source": [
    "import numpy as np\n",
    "from ipywidgets import *\n",
    "import matplotlib.pyplot as plt\n",
    "from matplotlib.widgets import RadioButtons\n",
    "\n",
    "%matplotlib widget"
   ]
  },
  {
   "cell_type": "code",
   "execution_count": 2,
   "metadata": {},
   "outputs": [
    {
     "output_type": "display_data",
     "data": {
      "text/plain": "Canvas(toolbar=Toolbar(toolitems=[('Home', 'Reset original view', 'home', 'home'), ('Back', 'Back to previous …",
      "application/vnd.jupyter.widget-view+json": {
       "version_major": 2,
       "version_minor": 0,
       "model_id": "7c82c011765d4a4cb2fca3e293f577b5"
      }
     },
     "metadata": {}
    }
   ],
   "source": [
    "t = np.arange(0.0, 2.0, 0.01)\n",
    "s0 = np.sin(2 * np.pi * t)\n",
    "s1 = np.sin(4 * np.pi * t)\n",
    "s2 = np.sin(8 * np.pi * t)\n",
    "\n",
    "fig, ax = plt.subplots()\n",
    "l, = ax.plot(t, s0, lw=2, color=\"red\")\n",
    "plt.subplots_adjust(left=0.3)\n",
    "\n",
    "axcolor = \"lightgoldenrodyellow\"\n",
    "rax = plt.axes([0.05, 0.7, 0.15, 0.15], facecolor=axcolor)\n",
    "radio = RadioButtons(rax, (\"2 Hz\", \"4 Hz\", \"8 Hz\"))\n",
    "\n",
    "def hzfunc(label):\n",
    "    hzdict = {\"2 Hz\": s0, \"4 Hz\": s1, \"8 Hz\": s2}\n",
    "    ydata = hzdict[label]\n",
    "    l.set_ydata(ydata)\n",
    "    plt.draw()\n",
    "\n",
    "radio.on_clicked(hzfunc)\n",
    "\n",
    "rax = plt.axes([0.05, 0.4, 0.15, 0.15], facecolor=axcolor)\n",
    "radio2 = RadioButtons(rax, (\"Red\", \"Blue\", \"Green\"))\n",
    "\n",
    "def colorfunc(label):\n",
    "    l.set_color(label)\n",
    "    plt.draw()\n",
    "\n",
    "radio2.on_clicked(colorfunc)\n",
    "\n",
    "rax = plt.axes([0.05, 0.1, 0.15, 0.15], facecolor=axcolor)\n",
    "radio3 = RadioButtons(rax, (\"-\", \"--\", \"-.\", \"steps\", \":\"))\n",
    "\n",
    "def stylefunc(label):\n",
    "    l.set_linestyle(label)\n",
    "    plt.draw()\n",
    "\n",
    "radio3.on_clicked(stylefunc)\n",
    "plt.show()"
   ]
  }
 ]
}