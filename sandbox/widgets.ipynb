{
 "metadata": {
  "language_info": {
   "codemirror_mode": {
    "name": "ipython",
    "version": 3
   },
   "file_extension": ".py",
   "mimetype": "text/x-python",
   "name": "python",
   "nbconvert_exporter": "python",
   "pygments_lexer": "ipython3",
   "version": "3.8.3-final"
  },
  "orig_nbformat": 2,
  "kernelspec": {
   "name": "python3",
   "display_name": "Python 3",
   "language": "python"
  }
 },
 "nbformat": 4,
 "nbformat_minor": 2,
 "cells": [
  {
   "cell_type": "code",
   "execution_count": 1,
   "metadata": {},
   "outputs": [],
   "source": [
    "import os\n",
    "import time\n",
    "from tqdm import tqdm\n",
    "\n",
    "import numpy as np\n",
    "import pandas as pd\n",
    "\n",
    "import ipywidgets as widgets\n",
    "import matplotlib.pyplot as plt\n",
    "from IPython.display import display"
   ]
  },
  {
   "source": [
    "### Basic Slider"
   ],
   "cell_type": "markdown",
   "metadata": {}
  },
  {
   "cell_type": "code",
   "execution_count": 5,
   "metadata": {},
   "outputs": [
    {
     "output_type": "display_data",
     "data": {
      "text/plain": "IntSlider(value=0)",
      "application/vnd.jupyter.widget-view+json": {
       "version_major": 2,
       "version_minor": 0,
       "model_id": "b20edf6286ef44ce95b66573e56b8f7a"
      }
     },
     "metadata": {}
    }
   ],
   "source": [
    "w = widgets.IntSlider()\n",
    "display(w)"
   ]
  },
  {
   "cell_type": "code",
   "execution_count": 13,
   "metadata": {},
   "outputs": [
    {
     "output_type": "execute_result",
     "data": {
      "text/plain": [
       "['_dom_classes',\n",
       " '_model_module',\n",
       " '_model_module_version',\n",
       " '_model_name',\n",
       " '_view_count',\n",
       " '_view_module',\n",
       " '_view_module_version',\n",
       " '_view_name',\n",
       " 'continuous_update',\n",
       " 'description',\n",
       " 'description_tooltip',\n",
       " 'disabled',\n",
       " 'layout',\n",
       " 'max',\n",
       " 'min',\n",
       " 'orientation',\n",
       " 'readout',\n",
       " 'readout_format',\n",
       " 'step',\n",
       " 'style',\n",
       " 'value']"
      ]
     },
     "metadata": {},
     "execution_count": 13
    }
   ],
   "source": [
    "w.keys"
   ]
  },
  {
   "source": [
    "### Text Widget"
   ],
   "cell_type": "markdown",
   "metadata": {}
  },
  {
   "cell_type": "code",
   "execution_count": 16,
   "metadata": {},
   "outputs": [
    {
     "output_type": "display_data",
     "data": {
      "text/plain": "Text(value='Hello World', disabled=True)",
      "application/vnd.jupyter.widget-view+json": {
       "version_major": 2,
       "version_minor": 0,
       "model_id": "bd392dd4fded46bcb1ab8fa067a99f62"
      }
     },
     "metadata": {}
    }
   ],
   "source": [
    "widgets.Text(value=\"Hello World\", disabled=True)"
   ]
  },
  {
   "source": [
    "### Linking Two Similar Widgets"
   ],
   "cell_type": "markdown",
   "metadata": {}
  },
  {
   "cell_type": "code",
   "execution_count": 18,
   "metadata": {},
   "outputs": [
    {
     "output_type": "display_data",
     "data": {
      "text/plain": "FloatText(value=0.0)",
      "application/vnd.jupyter.widget-view+json": {
       "version_major": 2,
       "version_minor": 0,
       "model_id": "7a1e6c06ce1943749c359deb1c9c7048"
      }
     },
     "metadata": {}
    },
    {
     "output_type": "display_data",
     "data": {
      "text/plain": "FloatSlider(value=0.0)",
      "application/vnd.jupyter.widget-view+json": {
       "version_major": 2,
       "version_minor": 0,
       "model_id": "dcc1f8b834314e51947f1f5cec0333da"
      }
     },
     "metadata": {}
    }
   ],
   "source": [
    "a = widgets.FloatText()\n",
    "b = widgets.FloatSlider()\n",
    "display(a, b)\n",
    "\n",
    "mylink = widgets.jslink((a, \"value\"), (b, \"value\"))"
   ]
  },
  {
   "source": [
    "### Float Progress Widget"
   ],
   "cell_type": "markdown",
   "metadata": {}
  },
  {
   "cell_type": "code",
   "execution_count": 20,
   "metadata": {},
   "outputs": [
    {
     "output_type": "display_data",
     "data": {
      "text/plain": "FloatProgress(value=0.0, bar_style='info', description='Loading', max=10.0)",
      "application/vnd.jupyter.widget-view+json": {
       "version_major": 2,
       "version_minor": 0,
       "model_id": "64367bdb63cc4b4eb286aa3df1cf8699"
      }
     },
     "metadata": {}
    }
   ],
   "source": [
    "fpw = widgets.FloatProgress(\n",
    "    value=0.0, \n",
    "    min=0., \n",
    "    max=10., \n",
    "    step=0.1, \n",
    "    description=\"Loading\", \n",
    "    bar_style=\"info\",\n",
    "    orientation=\"horizontal\"\n",
    ")\n",
    "display(fpw)"
   ]
  },
  {
   "cell_type": "code",
   "execution_count": 23,
   "metadata": {},
   "outputs": [
    {
     "output_type": "stream",
     "name": "stdout",
     "text": [
      "Setup a handler to be called when a trait changes.\n\n        This is used to setup dynamic notifications of trait changes.\n\n        Parameters\n        ----------\n        handler : callable\n            A callable that is called when a trait changes. Its\n            signature should be ``handler(change)``, where ``change`` is a\n            dictionary. The change dictionary at least holds a 'type' key.\n            * ``type``: the type of notification.\n            Other keys may be passed depending on the value of 'type'. In the\n            case where type is 'change', we also have the following keys:\n            * ``owner`` : the HasTraits instance\n            * ``old`` : the old value of the modified trait attribute\n            * ``new`` : the new value of the modified trait attribute\n            * ``name`` : the name of the modified trait attribute.\n        names : list, str, All\n            If names is All, the handler will apply to all traits.  If a list\n            of str, handler will apply to all names in the list.  If a\n            str, the handler will apply just to that name.\n        type : str, All (default: 'change')\n            The type of notification to filter by. If equal to All, then all\n            notifications are passed to the observe handler.\n        \n"
     ]
    }
   ],
   "source": [
    "print(fpw.observe.__doc__)"
   ]
  },
  {
   "cell_type": "code",
   "execution_count": 27,
   "metadata": {},
   "outputs": [],
   "source": [
    "# Try to register a callback\n",
    "def update_progress(change):\n",
    "    fpw.value += fpw.step\n",
    "    time.sleep(0.1)\n",
    "\n",
    "fpw.observe(update_progress)"
   ]
  },
  {
   "source": [
    "#### Test cells"
   ],
   "cell_type": "markdown",
   "metadata": {}
  },
  {
   "cell_type": "code",
   "execution_count": 31,
   "metadata": {},
   "outputs": [
    {
     "output_type": "display_data",
     "data": {
      "text/plain": "IntProgress(value=0, description='Loading')",
      "application/vnd.jupyter.widget-view+json": {
       "version_major": 2,
       "version_minor": 0,
       "model_id": "ccd70d4eff374cb9aa1a28dec0ff3b3b"
      }
     },
     "metadata": {}
    }
   ],
   "source": [
    "max_count = 100\n",
    "\n",
    "f = widgets.IntProgress(min=0, max=max_count, description=\"Loading\")\n",
    "display(f)\n",
    "\n",
    "count = 0\n",
    "while count <= max_count:\n",
    "    f.value += 1\n",
    "    time.sleep(0.1)\n",
    "    count += 1"
   ]
  },
  {
   "source": [
    "### Selection Widgets"
   ],
   "cell_type": "markdown",
   "metadata": {}
  },
  {
   "cell_type": "code",
   "execution_count": null,
   "metadata": {},
   "outputs": [],
   "source": [
    "dbox = "
   ]
  },
  {
   "cell_type": "code",
   "execution_count": null,
   "metadata": {},
   "outputs": [],
   "source": []
  },
  {
   "cell_type": "code",
   "execution_count": null,
   "metadata": {},
   "outputs": [],
   "source": []
  }
 ]
}